{
 "cells": [
  {
   "cell_type": "code",
   "execution_count": null,
   "id": "c52c7770",
   "metadata": {},
   "outputs": [
    {
     "ename": "RuntimeError",
     "evalue": "asyncio.run() cannot be called from a running event loop",
     "output_type": "error",
     "traceback": [
      "\u001b[0;31m---------------------------------------------------------------------------\u001b[0m",
      "\u001b[0;31mRuntimeError\u001b[0m                              Traceback (most recent call last)",
      "Cell \u001b[0;32mIn[15], line 127\u001b[0m\n\u001b[1;32m    125\u001b[0m \u001b[38;5;66;03m# Standard way to run the main async function\u001b[39;00m\n\u001b[1;32m    126\u001b[0m \u001b[38;5;28;01mif\u001b[39;00m \u001b[38;5;18m__name__\u001b[39m \u001b[38;5;241m==\u001b[39m \u001b[38;5;124m\"\u001b[39m\u001b[38;5;124m__main__\u001b[39m\u001b[38;5;124m\"\u001b[39m:\n\u001b[0;32m--> 127\u001b[0m     \u001b[43masyncio\u001b[49m\u001b[38;5;241;43m.\u001b[39;49m\u001b[43mrun\u001b[49m\u001b[43m(\u001b[49m\u001b[43mmain\u001b[49m\u001b[43m(\u001b[49m\u001b[38;5;124;43m\"\u001b[39;49m\u001b[38;5;124;43maaaa\u001b[39;49m\u001b[38;5;124;43m\"\u001b[39;49m\u001b[43m)\u001b[49m\u001b[43m)\u001b[49m\n",
      "File \u001b[0;32m/Library/Frameworks/Python.framework/Versions/3.12/lib/python3.12/asyncio/runners.py:190\u001b[0m, in \u001b[0;36mrun\u001b[0;34m(main, debug, loop_factory)\u001b[0m\n\u001b[1;32m    161\u001b[0m \u001b[38;5;250m\u001b[39m\u001b[38;5;124;03m\"\"\"Execute the coroutine and return the result.\u001b[39;00m\n\u001b[1;32m    162\u001b[0m \n\u001b[1;32m    163\u001b[0m \u001b[38;5;124;03mThis function runs the passed coroutine, taking care of\u001b[39;00m\n\u001b[0;32m   (...)\u001b[0m\n\u001b[1;32m    186\u001b[0m \u001b[38;5;124;03m    asyncio.run(main())\u001b[39;00m\n\u001b[1;32m    187\u001b[0m \u001b[38;5;124;03m\"\"\"\u001b[39;00m\n\u001b[1;32m    188\u001b[0m \u001b[38;5;28;01mif\u001b[39;00m events\u001b[38;5;241m.\u001b[39m_get_running_loop() \u001b[38;5;129;01mis\u001b[39;00m \u001b[38;5;129;01mnot\u001b[39;00m \u001b[38;5;28;01mNone\u001b[39;00m:\n\u001b[1;32m    189\u001b[0m     \u001b[38;5;66;03m# fail fast with short traceback\u001b[39;00m\n\u001b[0;32m--> 190\u001b[0m     \u001b[38;5;28;01mraise\u001b[39;00m \u001b[38;5;167;01mRuntimeError\u001b[39;00m(\n\u001b[1;32m    191\u001b[0m         \u001b[38;5;124m\"\u001b[39m\u001b[38;5;124masyncio.run() cannot be called from a running event loop\u001b[39m\u001b[38;5;124m\"\u001b[39m)\n\u001b[1;32m    193\u001b[0m \u001b[38;5;28;01mwith\u001b[39;00m Runner(debug\u001b[38;5;241m=\u001b[39mdebug, loop_factory\u001b[38;5;241m=\u001b[39mloop_factory) \u001b[38;5;28;01mas\u001b[39;00m runner:\n\u001b[1;32m    194\u001b[0m     \u001b[38;5;28;01mreturn\u001b[39;00m runner\u001b[38;5;241m.\u001b[39mrun(main)\n",
      "\u001b[0;31mRuntimeError\u001b[0m: asyncio.run() cannot be called from a running event loop"
     ]
    }
   ],
   "source": [
    "# Full runnable code for the StoryFlowAgent example\n",
    "# Copyright 2025 Google LLC\n",
    "#\n",
    "# Licensed under the Apache License, Version 2.0 (the \"License\");\n",
    "# you may not use this file except in compliance with the License.\n",
    "# You may obtain a copy of the License at\n",
    "#\n",
    "#     http://www.apache.org/licenses/LICENSE-2.0\n",
    "#\n",
    "# Unless required by applicable law or agreed to in writing, software\n",
    "# distributed under the License is distributed on an \"AS IS\" BASIS,\n",
    "# WITHOUT WARRANTIES OR CONDITIONS OF ANY KIND, either express or implied.\n",
    "# See the License for the specific language governing permissions and\n",
    "# limitations under the License.\n",
    "\n",
    "import logging\n",
    "from typing import AsyncGenerator\n",
    "from typing_extensions import override\n",
    "\n",
    "from google.adk.agents import BaseAgent\n",
    "from google.adk.agents.invocation_context import InvocationContext\n",
    "from google.genai import types\n",
    "from google.adk.sessions import InMemorySessionService\n",
    "from google.adk.runners import Runner\n",
    "from google.adk.events import Event\n",
    "from pydantic import BaseModel, Field\n",
    "\n",
    "# --- Constants ---\n",
    "APP_NAME = \"story_app\"\n",
    "USER_ID = \"12345\"\n",
    "SESSION_ID = \"123344\"\n",
    "\n",
    "# --- Configure Logging ---\n",
    "logging.basicConfig(level=logging.INFO)\n",
    "logger = logging.getLogger(__name__)\n",
    "\n",
    "\n",
    "# --- Custom Orchestrator Agent ---\n",
    "class StoryFlowAgent(BaseAgent):\n",
    "    \"\"\"\n",
    "    Custom agent for a story generation and refinement workflow.\n",
    "\n",
    "    This agent orchestrates a sequence of LLM agents to generate a story,\n",
    "    critique it, revise it, check grammar and tone, and potentially\n",
    "    regenerate the story if the tone is negative.\n",
    "    \"\"\"\n",
    "\n",
    "\n",
    "    def __init__(\n",
    "        self,\n",
    "        name: str,\n",
    "    ):\n",
    "        \"\"\"\n",
    "        Initializes the StoryFlowAgent.\n",
    "\n",
    "        Args:\n",
    "            name: The name of the agent.\n",
    "        \"\"\"\n",
    "\n",
    "        # Pydantic will validate and assign them based on the class annotations.\n",
    "        super().__init__(\n",
    "            name=name,\n",
    "        )\n",
    "\n",
    "    @override\n",
    "    async def _run_async_impl(\n",
    "        self, ctx: InvocationContext\n",
    "    ) -> AsyncGenerator[Event, None]:\n",
    "        \"\"\"\n",
    "        Implements the custom orchestration logic for the story workflow.\n",
    "        Uses the instance attributes assigned by Pydantic (e.g., self.story_generator).\n",
    "        \"\"\"\n",
    "        \n",
    "        event_with_state_change = Event(\n",
    "            author=self.name,\n",
    "            content=types.Content(parts=[types.Part(text=\"O gato subiu no armario\")]),\n",
    "            partial = False,\n",
    "            turn_complete=True\n",
    "        )\n",
    "\n",
    "        # 2. Yield the event to the Runner for processing & commit\n",
    "        yield event_with_state_change\n",
    "\n",
    "\n",
    "# --- Create the custom agent instance ---\n",
    "story_flow_agent = StoryFlowAgent(\n",
    "    name=\"StoryFlowAgent\"\n",
    ")\n",
    "\n",
    "# --- Setup Runner and Session ---\n",
    "async def setup_session_and_runner():\n",
    "    session_service = InMemorySessionService()\n",
    "    session = await session_service.create_session(app_name=APP_NAME, user_id=USER_ID, session_id=SESSION_ID)\n",
    "    logger.info(f\"Initial session state: {session.state}\")\n",
    "    runner = Runner(\n",
    "        agent=story_flow_agent, # Pass the custom orchestrator agent\n",
    "        app_name=APP_NAME,\n",
    "        session_service=session_service\n",
    "    )\n",
    "    return session_service, runner\n",
    "\n",
    "# --- Function to Interact with the Agent ---\n",
    "async def call_agent_async(user_input_topic: str):\n",
    "    \"\"\"\n",
    "    Sends a new topic to the agent (overwriting the initial one if needed)\n",
    "    and runs the workflow.\n",
    "    \"\"\"\n",
    "\n",
    "    session_service, runner = await setup_session_and_runner()\n",
    "\n",
    "    current_session = await session_service.get_session(app_name=APP_NAME, \n",
    "                                                  user_id=USER_ID, \n",
    "                                                  session_id=SESSION_ID)\n",
    "    if not current_session:\n",
    "        logger.error(\"Session not found!\")\n",
    "        return\n",
    "\n",
    "    current_session.state[\"topic\"] = user_input_topic\n",
    "\n",
    "    content = types.Content(role='user', parts=[types.Part(text=f\"Generate a story about: {user_input_topic}\")])\n",
    "    events = runner.run_async(user_id=USER_ID, session_id=SESSION_ID, new_message=content)\n",
    "\n",
    "    final_response = \"No final response captured.\"\n",
    "    async for event in events:\n",
    "        if event.is_final_response() and event.content and event.content.parts:\n",
    "            final_response = event.content.parts[0].text\n",
    "        session_service.append_event(current_session, event)\n",
    "        yield event\n",
    "\n",
    "    print(\"\\n--- Agent Interaction Result ---\")\n",
    "    print(\"Agent Final Response: \", final_response)\n",
    "\n",
    "# --- Run the Agent ---\n",
    "# If running this code as a standalone Python script, you'll need to use asyncio.run() or manage the event loop.\n",
    "await call_agent_async(\"a lonely robot finding a friend in a junkyard\")"
   ]
  },
  {
   "cell_type": "code",
   "execution_count": 10,
   "id": "3bca66e5",
   "metadata": {},
   "outputs": [
    {
     "name": "stderr",
     "output_type": "stream",
     "text": [
      "INFO:__main__:Initial session state: {}\n"
     ]
    },
    {
     "name": "stdout",
     "output_type": "stream",
     "text": [
      "\n",
      "--- Agent Interaction Result ---\n",
      "Agent Final Response:  O gato subiu no armario\n"
     ]
    }
   ],
   "source": [
    "# --- Run the Agent ---\n",
    "# If running this code as a standalone Python script, you'll need to use asyncio.run() or manage the event loop.\n",
    "aaa = await call_agent_async(\"a lonely robot finding a friend in a junkyard\")"
   ]
  },
  {
   "cell_type": "code",
   "execution_count": null,
   "id": "ed2508ae",
   "metadata": {},
   "outputs": [],
   "source": [
    "asyncio.run()"
   ]
  },
  {
   "cell_type": "code",
   "execution_count": null,
   "id": "86cce7fe",
   "metadata": {},
   "outputs": [],
   "source": []
  },
  {
   "cell_type": "code",
   "execution_count": null,
   "id": "0386e43d",
   "metadata": {},
   "outputs": [
    {
     "name": "stderr",
     "output_type": "stream",
     "text": [
      "/Library/Frameworks/Python.framework/Versions/3.12/lib/python3.12/collections/__init__.py:447: RuntimeWarning: coroutine 'main' was never awaited\n",
      "  @classmethod\n",
      "RuntimeWarning: Enable tracemalloc to get the object allocation traceback\n"
     ]
    },
    {
     "ename": "RuntimeError",
     "evalue": "asyncio.run() cannot be called from a running event loop",
     "output_type": "error",
     "traceback": [
      "\u001b[0;31m---------------------------------------------------------------------------\u001b[0m",
      "\u001b[0;31mRuntimeError\u001b[0m                              Traceback (most recent call last)",
      "Cell \u001b[0;32mIn[16], line 98\u001b[0m\n\u001b[1;32m     96\u001b[0m \u001b[38;5;66;03m# Standard way to run the main async function\u001b[39;00m\n\u001b[1;32m     97\u001b[0m \u001b[38;5;28;01mif\u001b[39;00m \u001b[38;5;18m__name__\u001b[39m \u001b[38;5;241m==\u001b[39m \u001b[38;5;124m\"\u001b[39m\u001b[38;5;124m__main__\u001b[39m\u001b[38;5;124m\"\u001b[39m:\n\u001b[0;32m---> 98\u001b[0m     \u001b[43masyncio\u001b[49m\u001b[38;5;241;43m.\u001b[39;49m\u001b[43mrun\u001b[49m\u001b[43m(\u001b[49m\u001b[43mmain\u001b[49m\u001b[43m(\u001b[49m\u001b[43m)\u001b[49m\u001b[43m)\u001b[49m\n",
      "File \u001b[0;32m/Library/Frameworks/Python.framework/Versions/3.12/lib/python3.12/asyncio/runners.py:190\u001b[0m, in \u001b[0;36mrun\u001b[0;34m(main, debug, loop_factory)\u001b[0m\n\u001b[1;32m    161\u001b[0m \u001b[38;5;250m\u001b[39m\u001b[38;5;124;03m\"\"\"Execute the coroutine and return the result.\u001b[39;00m\n\u001b[1;32m    162\u001b[0m \n\u001b[1;32m    163\u001b[0m \u001b[38;5;124;03mThis function runs the passed coroutine, taking care of\u001b[39;00m\n\u001b[0;32m   (...)\u001b[0m\n\u001b[1;32m    186\u001b[0m \u001b[38;5;124;03m    asyncio.run(main())\u001b[39;00m\n\u001b[1;32m    187\u001b[0m \u001b[38;5;124;03m\"\"\"\u001b[39;00m\n\u001b[1;32m    188\u001b[0m \u001b[38;5;28;01mif\u001b[39;00m events\u001b[38;5;241m.\u001b[39m_get_running_loop() \u001b[38;5;129;01mis\u001b[39;00m \u001b[38;5;129;01mnot\u001b[39;00m \u001b[38;5;28;01mNone\u001b[39;00m:\n\u001b[1;32m    189\u001b[0m     \u001b[38;5;66;03m# fail fast with short traceback\u001b[39;00m\n\u001b[0;32m--> 190\u001b[0m     \u001b[38;5;28;01mraise\u001b[39;00m \u001b[38;5;167;01mRuntimeError\u001b[39;00m(\n\u001b[1;32m    191\u001b[0m         \u001b[38;5;124m\"\u001b[39m\u001b[38;5;124masyncio.run() cannot be called from a running event loop\u001b[39m\u001b[38;5;124m\"\u001b[39m)\n\u001b[1;32m    193\u001b[0m \u001b[38;5;28;01mwith\u001b[39;00m Runner(debug\u001b[38;5;241m=\u001b[39mdebug, loop_factory\u001b[38;5;241m=\u001b[39mloop_factory) \u001b[38;5;28;01mas\u001b[39;00m runner:\n\u001b[1;32m    194\u001b[0m     \u001b[38;5;28;01mreturn\u001b[39;00m runner\u001b[38;5;241m.\u001b[39mrun(main)\n",
      "\u001b[0;31mRuntimeError\u001b[0m: asyncio.run() cannot be called from a running event loop"
     ]
    }
   ],
   "source": []
  },
  {
   "cell_type": "code",
   "execution_count": null,
   "id": "fc79c2fc",
   "metadata": {},
   "outputs": [],
   "source": []
  }
 ],
 "metadata": {
  "kernelspec": {
   "display_name": "Python 3",
   "language": "python",
   "name": "python3"
  },
  "language_info": {
   "codemirror_mode": {
    "name": "ipython",
    "version": 3
   },
   "file_extension": ".py",
   "mimetype": "text/x-python",
   "name": "python",
   "nbconvert_exporter": "python",
   "pygments_lexer": "ipython3",
   "version": "3.12.3"
  }
 },
 "nbformat": 4,
 "nbformat_minor": 5
}
