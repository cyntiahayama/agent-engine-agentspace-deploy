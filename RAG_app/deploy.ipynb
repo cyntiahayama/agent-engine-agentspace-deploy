{
 "cells": [
  {
   "cell_type": "code",
   "execution_count": null,
   "id": "d030cd09",
   "metadata": {},
   "outputs": [],
   "source": [
    "import vertexai\n",
    "from vertexai import agent_engines\n",
    "from agent import root_agent # modify this if your agent is not in agent.py\n",
    "import os\n",
    "\n",
    "from dotenv import load_dotenv, dotenv_values, set_key"
   ]
  },
  {
   "cell_type": "code",
   "execution_count": null,
   "id": "f5ef57f7",
   "metadata": {},
   "outputs": [],
   "source": [
    "load_dotenv()\n",
    "\n",
    "PROJECT_ID = os.environ[\"GOOGLE_CLOUD_PROJECT\"]\n",
    "LOCATION = os.environ[\"GOOGLE_CLOUD_LOCATION\"]\n",
    "STAGING_BUCKET = os.environ[\"STAGING_BUCKET\"]\n",
    "AGENT_DISPLAY_NAME = os.environ[\"AGENT_DISPLAY_NAME\"]\n",
    "\n",
    "app = agent_engines.AdkApp(\n",
    "    agent=root_agent,\n",
    "    enable_tracing=True,\n",
    ")"
   ]
  },
  {
   "cell_type": "code",
   "execution_count": null,
   "id": "5192317d",
   "metadata": {},
   "outputs": [],
   "source": [
    "print(f\"PROJECT_ID: {PROJECT_ID}\")\n",
    "print(f\"LOCATION: {LOCATION}\")\n",
    "print(f\"STAGING_BUCKET: {STAGING_BUCKET}\")"
   ]
  },
  {
   "cell_type": "code",
   "execution_count": null,
   "id": "52275f7e",
   "metadata": {},
   "outputs": [],
   "source": [
    "vertexai.init(\n",
    "    project=PROJECT_ID,\n",
    "    location=LOCATION,\n",
    "    staging_bucket=STAGING_BUCKET,\n",
    ")"
   ]
  },
  {
   "cell_type": "markdown",
   "id": "022db3e8",
   "metadata": {},
   "source": [
    "## Roda local\n",
    "\n",
    "Vamos primeiro verificar se está funcionando e carregamos a versão correta"
   ]
  },
  {
   "cell_type": "code",
   "execution_count": null,
   "id": "ab52ad61",
   "metadata": {},
   "outputs": [],
   "source": [
    "query = \"\"\n",
    "user_id=\"u_123\""
   ]
  },
  {
   "cell_type": "code",
   "execution_count": null,
   "id": "d60a16f5",
   "metadata": {},
   "outputs": [],
   "source": [
    "events = []\n",
    "async for event in app.async_stream_query(\n",
    "    user_id=user_id,\n",
    "    message=query,\n",
    "):\n",
    "    events.append(event)\n",
    "\n",
    "# The full event stream shows the agent's thought process\n",
    "#print(\"--- Full Event Stream ---\")\n",
    "#for event in events:\n",
    "#    print(event)\n",
    "\n",
    "# For quick tests, you can extract just the final text response\n",
    "final_text_responses = [\n",
    "    e for e in events\n",
    "    if e.get(\"content\", {}).get(\"parts\", [{}])[0].get(\"text\")\n",
    "    and not e.get(\"content\", {}).get(\"parts\", [{}])[0].get(\"function_call\")\n",
    "]\n",
    "if final_text_responses:\n",
    "    print(\"\\n--- Final Response ---\")\n",
    "    print(final_text_responses[0][\"content\"][\"parts\"][0][\"text\"])"
   ]
  },
  {
   "cell_type": "markdown",
   "id": "1ccf727d",
   "metadata": {},
   "source": [
    "## Deploy"
   ]
  },
  {
   "cell_type": "code",
   "execution_count": null,
   "id": "4ff3e0e9",
   "metadata": {},
   "outputs": [],
   "source": [
    "remote_app = agent_engines.create(\n",
    "    app,\n",
    "    requirements=\"requirements.txt\",\n",
    "    extra_packages=[\"agent.py\"],\n",
    "    display_name=AGENT_DISPLAY_NAME,\n",
    "    env_vars=dotenv_values(\"../.env\")\n",
    ")"
   ]
  },
  {
   "cell_type": "code",
   "execution_count": null,
   "id": "c1138c12",
   "metadata": {},
   "outputs": [],
   "source": [
    "resource_name = remote_app.resource_name\n",
    "print(f\"Resource name: {resource_name}\")"
   ]
  },
  {
   "cell_type": "code",
   "execution_count": null,
   "id": "556d83ed",
   "metadata": {},
   "outputs": [],
   "source": [
    "set_key(dotenv_path=\"../.env\", key_to_set=\"REASONING_ENGINE_ID\", value_to_set=resource_name.split('/')[-1])"
   ]
  },
  {
   "cell_type": "markdown",
   "id": "5c4d7218",
   "metadata": {},
   "source": [
    "## Teste Agent Engine\n",
    "\n",
    "Obs: Não vai encontrar o documento se precisar de Autenticação, como gDrive. Vamos apenas testar o endpoint"
   ]
  },
  {
   "cell_type": "code",
   "execution_count": null,
   "id": "0ec669ce",
   "metadata": {},
   "outputs": [],
   "source": [
    "AGENT_DISPLAY_NAME = os.environ[\"GOOGLE_CLOUD_PROJECT_NUMBER\"]"
   ]
  },
  {
   "cell_type": "code",
   "execution_count": null,
   "id": "e4374364",
   "metadata": {},
   "outputs": [],
   "source": [
    "if 'resource_name' not in locals():\n",
    "    REASONING_ENGINE_ID = os.environ[\"REASONING_ENGINE_ID\"]\n",
    "    PROJECT_NUMBER = os.environ[\"GOOGLE_CLOUD_PROJECT_NUMBER\"]\n",
    "    resource_name = f\"projects/{PROJECT_NUMBER}/locations/us-central1/reasoningEngines/{REASONING_ENGINE_ID}\"\n",
    "\n",
    "print(f\"Resource name: {resource_name}\")\n",
    "remote_agent = agent_engines.get(resource_name)"
   ]
  },
  {
   "cell_type": "code",
   "execution_count": null,
   "id": "b73ad62a",
   "metadata": {},
   "outputs": [],
   "source": [
    "query = \"\"\n",
    "user_id=\"u_123\""
   ]
  },
  {
   "cell_type": "code",
   "execution_count": null,
   "id": "e57e41ee",
   "metadata": {},
   "outputs": [],
   "source": [
    "events = []\n",
    "async for event in remote_agent.async_stream_query(\n",
    "    user_id=user_id,\n",
    "    message=query,\n",
    "):\n",
    "    events.append(event)\n",
    "\n",
    "\n",
    "# For quick tests, you can extract just the final text response\n",
    "final_text_responses = [\n",
    "    e for e in events\n",
    "    if e.get(\"content\", {}).get(\"parts\", [{}])[0].get(\"text\")\n",
    "    and not e.get(\"content\", {}).get(\"parts\", [{}])[0].get(\"function_call\")\n",
    "]\n",
    "if final_text_responses:\n",
    "    print(\"\\n--- Final Response ---\")\n",
    "    print(final_text_responses[0][\"content\"][\"parts\"][0][\"text\"])"
   ]
  },
  {
   "cell_type": "markdown",
   "id": "f99e62b6",
   "metadata": {},
   "source": [
    "## Update Agent"
   ]
  },
  {
   "cell_type": "code",
   "execution_count": null,
   "id": "d2a73d25",
   "metadata": {},
   "outputs": [],
   "source": [
    "if 'resource_name' not in locals():\n",
    "    REASONING_ENGINE_ID = os.environ[\"REASONING_ENGINE_ID\"]\n",
    "    PROJECT_NUMBER = os.environ[\"GOOGLE_CLOUD_PROJECT_NUMBER\"]\n",
    "    resource_name = f\"projects/{PROJECT_NUMBER}/locations/us-central1/reasoningEngines/{REASONING_ENGINE_ID}\"\n",
    "\n",
    "print(f\"Resource name: {resource_name}\")\n",
    "remote_agent = agent_engines.get(resource_name)"
   ]
  },
  {
   "cell_type": "code",
   "execution_count": null,
   "id": "850afae9",
   "metadata": {},
   "outputs": [],
   "source": [
    "from vertexai import agent_engines\n",
    "\n",
    "agent_engines.update(\n",
    "    resource_name=resource_name,    # Required.\n",
    "    agent_engine=app,     # Optional.\n",
    "    requirements=\"requirements.txt\",      # Optional.\n",
    "    display_name=\"natura\",    # Optional.\n",
    "    extra_packages=[\"agent.py\"],  # Optional.\n",
    "    env_vars=dotenv_values(\"../.env\")\n",
    ")"
   ]
  },
  {
   "cell_type": "markdown",
   "id": "28619159",
   "metadata": {},
   "source": [
    "## Rode os códigos abaixo"
   ]
  },
  {
   "cell_type": "markdown",
   "id": "bc6e74f7",
   "metadata": {},
   "source": [
    "python3 03_register_authorization_resource.py\n",
    "\n",
    "python3 04_register_agentoauth.py"
   ]
  }
 ],
 "metadata": {
  "kernelspec": {
   "display_name": "Python 3",
   "language": "python",
   "name": "python3"
  },
  "language_info": {
   "codemirror_mode": {
    "name": "ipython",
    "version": 3
   },
   "file_extension": ".py",
   "mimetype": "text/x-python",
   "name": "python",
   "nbconvert_exporter": "python",
   "pygments_lexer": "ipython3",
   "version": "3.12.3"
  }
 },
 "nbformat": 4,
 "nbformat_minor": 5
}
