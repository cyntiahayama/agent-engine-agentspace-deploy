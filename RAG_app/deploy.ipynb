{
 "cells": [
  {
   "cell_type": "code",
   "execution_count": 1,
   "id": "d030cd09",
   "metadata": {},
   "outputs": [],
   "source": [
    "import vertexai\n",
    "from vertexai import agent_engines\n",
    "import importlib\n",
    "import os\n",
    "\n",
    "from dotenv import load_dotenv, dotenv_values, set_key"
   ]
  },
  {
   "cell_type": "code",
   "execution_count": 2,
   "id": "f5ef57f7",
   "metadata": {},
   "outputs": [
    {
     "name": "stderr",
     "output_type": "stream",
     "text": [
      "2025-09-29 10:36:55,261 - agent - INFO - MODEL: `gemini-2.5-flash`\n",
      "2025-09-29 10:36:55,261 - agent - INFO - AGENT_APP_NAME: `natura6`\n",
      "2025-09-29 10:36:55,262 - agent - INFO - PROJECT_ID: `ml-demos-cyntia`\n",
      "2025-09-29 10:36:55,262 - agent - INFO - LOCATION: `global`\n",
      "2025-09-29 10:36:55,263 - agent - INFO - DATA_STORE_ID: `gdrive_1744808233110`\n",
      "2025-09-29 10:36:55,263 - agent - INFO - AUTH_NAME: `natura_app_auth6`\n",
      "2025-09-29 10:36:55,264 - agent - INFO - AGENTSPACE_APP_ID: `apagar_1751381593128`\n"
     ]
    }
   ],
   "source": [
    "load_dotenv()\n",
    "\n",
    "PROJECT_ID = os.environ[\"GOOGLE_CLOUD_PROJECT\"]\n",
    "LOCATION = os.environ[\"GOOGLE_CLOUD_LOCATION\"]\n",
    "STAGING_BUCKET = os.environ[\"STAGING_BUCKET\"]\n",
    "AGENT_DISPLAY_NAME = os.environ[\"AGENT_DISPLAY_NAME\"]\n",
    "AGENT_FOLDER = os.environ[\"AGENT_FOLDER\"]\n",
    "PROJECT_NUMBER = os.environ[\"GOOGLE_CLOUD_PROJECT_NUMBER\"]\n",
    "\n",
    "root_agent = importlib.import_module(f\"agent\")\n",
    "root_agent = root_agent.root_agent\n",
    "\n",
    "app = agent_engines.AdkApp(\n",
    "    agent=root_agent,\n",
    "    enable_tracing=True,\n",
    ")"
   ]
  },
  {
   "cell_type": "code",
   "execution_count": 3,
   "id": "5192317d",
   "metadata": {},
   "outputs": [
    {
     "name": "stdout",
     "output_type": "stream",
     "text": [
      "PROJECT_ID: ml-demos-cyntia\n",
      "LOCATION: us-central1\n",
      "STAGING_BUCKET: adk-demo-cyntia\n"
     ]
    }
   ],
   "source": [
    "print(f\"PROJECT_ID: {PROJECT_ID}\")\n",
    "print(f\"LOCATION: {LOCATION}\")\n",
    "print(f\"STAGING_BUCKET: {STAGING_BUCKET}\")"
   ]
  },
  {
   "cell_type": "code",
   "execution_count": 4,
   "id": "52275f7e",
   "metadata": {},
   "outputs": [],
   "source": [
    "vertexai.init(\n",
    "    project=PROJECT_ID,\n",
    "    location=LOCATION,\n",
    "    staging_bucket=\"gs://\"+STAGING_BUCKET,\n",
    ")"
   ]
  },
  {
   "cell_type": "markdown",
   "id": "022db3e8",
   "metadata": {},
   "source": [
    "## Roda local\n",
    "\n",
    "Vamos primeiro verificar se está funcionando e carregamos a versão correta"
   ]
  },
  {
   "cell_type": "code",
   "execution_count": 5,
   "id": "ab52ad61",
   "metadata": {},
   "outputs": [],
   "source": [
    "query = \"Qual a missao da TBG? Caso nao encontre, responda o motivo\"\n",
    "user_id=\"u_123\""
   ]
  },
  {
   "cell_type": "code",
   "execution_count": 6,
   "id": "d60a16f5",
   "metadata": {},
   "outputs": [
    {
     "name": "stderr",
     "output_type": "stream",
     "text": [
      "2025-09-29 10:36:59,311 - google_adk.google.adk.models.google_llm - INFO - Sending out request, model: gemini-2.5-flash, backend: GoogleLLMVariant.VERTEX_AI, stream: False\n",
      "2025-09-29 10:36:59,312 - google_genai.models - INFO - AFC is enabled with max remote calls: 10.\n",
      "2025-09-29 10:37:01,481 - google_adk.google.adk.models.google_llm - INFO - Response received from the model.\n",
      "2025-09-29 10:37:01,483 - google_genai.types - WARNING - Warning: there are non-text parts in the response: ['thought_signature', 'function_call'], returning concatenated text result from text parts. Check the full candidates.content.parts accessor to get the full model response.\n",
      "2025-09-29 10:37:11,552 - agent - INFO - \"Answer\":  A missão da TBG (Transportadora Brasileira Gasoduto Bolívia-Brasil S.A.) é \"Prover as melhores soluções logísticas conectando as ofertas de gás natural aos mercados, agregando valor em benefício do progresso sustentável da indústria , da geração termelétrica e do aquecimento dos lares.\", \"url\":https://global-discoveryengine.googleapis.com/v1alpha/projects/ml-demos-cyntia/locations/global/collections/default_collection/engines/apagar_1751381593128/assistants/default_assistant:streamAssist\n",
      "2025-09-29 10:37:11,685 - google_adk.google.adk.models.google_llm - INFO - Sending out request, model: gemini-2.5-flash, backend: GoogleLLMVariant.VERTEX_AI, stream: False\n",
      "2025-09-29 10:37:11,686 - google_genai.models - INFO - AFC is enabled with max remote calls: 10.\n",
      "2025-09-29 10:37:13,515 - google_adk.google.adk.models.google_llm - INFO - Response received from the model.\n"
     ]
    },
    {
     "name": "stdout",
     "output_type": "stream",
     "text": [
      "\n",
      "--- Final Response ---\n",
      "A missão da TBG (Transportadora Brasileira Gasoduto Bolívia-Brasil S.A.) é \"Prover as melhores soluções logísticas conectando as ofertas de gás natural aos mercados, agregando valor em benefício do progresso sustentável da indústria, da geração termelétrica e do aquecimento dos lares.\"\n"
     ]
    }
   ],
   "source": [
    "events = []\n",
    "async for event in app.async_stream_query(\n",
    "    user_id=user_id,\n",
    "    message=query,\n",
    "):\n",
    "    events.append(event)\n",
    "\n",
    "# The full event stream shows the agent's thought process\n",
    "#print(\"--- Full Event Stream ---\")\n",
    "#for event in events:\n",
    "#    print(event)\n",
    "\n",
    "# For quick tests, you can extract just the final text response\n",
    "final_text_responses = [\n",
    "    e for e in events\n",
    "    if e.get(\"content\", {}).get(\"parts\", [{}])[0].get(\"text\")\n",
    "    and not e.get(\"content\", {}).get(\"parts\", [{}])[0].get(\"function_call\")\n",
    "]\n",
    "if final_text_responses:\n",
    "    print(\"\\n--- Final Response ---\")\n",
    "    print(final_text_responses[0][\"content\"][\"parts\"][0][\"text\"])"
   ]
  },
  {
   "cell_type": "markdown",
   "id": "1ccf727d",
   "metadata": {},
   "source": [
    "## Deploy"
   ]
  },
  {
   "cell_type": "code",
   "execution_count": 14,
   "id": "eac9d4b2",
   "metadata": {},
   "outputs": [],
   "source": [
    "agent_env_vars = dict(dotenv_values(\".env\"))\n",
    "keys_to_copy = [\"MODEL\", \"AGENT_APP_NAME\", \"DATASTORE_LOCATION\", \"DATASTORE_ID\", \"AGENT_AUTH_OBJECT_ID\", \"AGENTSPACE_APP_ID_SEARCH\"]\n",
    "agent_env_vars = dict((k, agent_env_vars[k]) for k in keys_to_copy if k in agent_env_vars)"
   ]
  },
  {
   "cell_type": "code",
   "execution_count": 15,
   "id": "6672856e",
   "metadata": {},
   "outputs": [
    {
     "data": {
      "text/plain": [
       "'./RAG_app/requirements.txt'"
      ]
     },
     "execution_count": 15,
     "metadata": {},
     "output_type": "execute_result"
    }
   ],
   "source": [
    "os.path.join(\"./\", AGENT_FOLDER, 'requirements.txt')"
   ]
  },
  {
   "cell_type": "code",
   "execution_count": 16,
   "id": "15fc28c8",
   "metadata": {},
   "outputs": [
    {
     "data": {
      "text/plain": [
       "'natura6'"
      ]
     },
     "execution_count": 16,
     "metadata": {},
     "output_type": "execute_result"
    }
   ],
   "source": [
    "AGENT_DISPLAY_NAME"
   ]
  },
  {
   "cell_type": "code",
   "execution_count": 17,
   "id": "e8820eda",
   "metadata": {},
   "outputs": [
    {
     "data": {
      "text/plain": [
       "{'MODEL': 'gemini-2.5-flash'}"
      ]
     },
     "execution_count": 17,
     "metadata": {},
     "output_type": "execute_result"
    }
   ],
   "source": [
    "agent_env_vars"
   ]
  },
  {
   "cell_type": "code",
   "execution_count": 19,
   "id": "2b13239a",
   "metadata": {},
   "outputs": [
    {
     "name": "stdout",
     "output_type": "stream",
     "text": [
      "Reading requirements from requirements='requirements.txt'\n"
     ]
    },
    {
     "name": "stderr",
     "output_type": "stream",
     "text": [
      "2025-09-29 09:40:59,328 - vertexai.agent_engines - INFO - Reading requirements from requirements='requirements.txt'\n"
     ]
    },
    {
     "name": "stdout",
     "output_type": "stream",
     "text": [
      "Read the following lines: ['google-cloud-discoveryengine', 'google-cloud-storage ', 'requests', 'pydantic', 'pytest', 'PyYAML', 'python-dotenv', 'google-cloud-aiplatform[adk,agent_engines]', 'google-auth-oauthlib', 'google-genai', 'google-adk', 'cloudpickle']\n"
     ]
    },
    {
     "name": "stderr",
     "output_type": "stream",
     "text": [
      "2025-09-29 09:40:59,332 - vertexai.agent_engines - INFO - Read the following lines: ['google-cloud-discoveryengine', 'google-cloud-storage ', 'requests', 'pydantic', 'pytest', 'PyYAML', 'python-dotenv', 'google-cloud-aiplatform[adk,agent_engines]', 'google-auth-oauthlib', 'google-genai', 'google-adk', 'cloudpickle']\n"
     ]
    },
    {
     "name": "stdout",
     "output_type": "stream",
     "text": [
      "Identified the following requirements: {'google-cloud-aiplatform': '1.117.0', 'pydantic': '2.11.1', 'cloudpickle': '3.1.1'}\n"
     ]
    },
    {
     "name": "stderr",
     "output_type": "stream",
     "text": [
      "2025-09-29 09:40:59,358 - vertexai.agent_engines - INFO - Identified the following requirements: {'google-cloud-aiplatform': '1.117.0', 'pydantic': '2.11.1', 'cloudpickle': '3.1.1'}\n"
     ]
    },
    {
     "name": "stdout",
     "output_type": "stream",
     "text": [
      "The final list of requirements: ['google-cloud-discoveryengine', 'google-cloud-storage ', 'requests', 'pydantic', 'pytest', 'PyYAML', 'python-dotenv', 'google-cloud-aiplatform[adk,agent_engines]', 'google-auth-oauthlib', 'google-genai', 'google-adk', 'cloudpickle']\n"
     ]
    },
    {
     "name": "stderr",
     "output_type": "stream",
     "text": [
      "2025-09-29 09:40:59,363 - vertexai.agent_engines - INFO - The final list of requirements: ['google-cloud-discoveryengine', 'google-cloud-storage ', 'requests', 'pydantic', 'pytest', 'PyYAML', 'python-dotenv', 'google-cloud-aiplatform[adk,agent_engines]', 'google-auth-oauthlib', 'google-genai', 'google-adk', 'cloudpickle']\n"
     ]
    },
    {
     "name": "stdout",
     "output_type": "stream",
     "text": [
      "Using bucket adk-demo-cyntia\n"
     ]
    },
    {
     "name": "stderr",
     "output_type": "stream",
     "text": [
      "2025-09-29 09:41:02,385 - vertexai.agent_engines - INFO - Using bucket adk-demo-cyntia\n"
     ]
    },
    {
     "name": "stdout",
     "output_type": "stream",
     "text": [
      "Wrote to gs://adk-demo-cyntia/agent_engine/agent_engine.pkl\n"
     ]
    },
    {
     "name": "stderr",
     "output_type": "stream",
     "text": [
      "2025-09-29 09:41:02,971 - vertexai.agent_engines - INFO - Wrote to gs://adk-demo-cyntia/agent_engine/agent_engine.pkl\n"
     ]
    },
    {
     "name": "stdout",
     "output_type": "stream",
     "text": [
      "Writing to gs://adk-demo-cyntia/agent_engine/requirements.txt\n"
     ]
    },
    {
     "name": "stderr",
     "output_type": "stream",
     "text": [
      "2025-09-29 09:41:03,244 - vertexai.agent_engines - INFO - Writing to gs://adk-demo-cyntia/agent_engine/requirements.txt\n"
     ]
    },
    {
     "name": "stdout",
     "output_type": "stream",
     "text": [
      "Creating in-memory tarfile of extra_packages\n"
     ]
    },
    {
     "name": "stderr",
     "output_type": "stream",
     "text": [
      "2025-09-29 09:41:03,246 - vertexai.agent_engines - INFO - Creating in-memory tarfile of extra_packages\n"
     ]
    },
    {
     "name": "stdout",
     "output_type": "stream",
     "text": [
      "Writing to gs://adk-demo-cyntia/agent_engine/dependencies.tar.gz\n"
     ]
    },
    {
     "name": "stderr",
     "output_type": "stream",
     "text": [
      "2025-09-29 09:41:03,521 - vertexai.agent_engines - INFO - Writing to gs://adk-demo-cyntia/agent_engine/dependencies.tar.gz\n"
     ]
    },
    {
     "name": "stdout",
     "output_type": "stream",
     "text": [
      "Creating AgentEngine\n"
     ]
    },
    {
     "name": "stderr",
     "output_type": "stream",
     "text": [
      "2025-09-29 09:41:04,222 - vertexai.agent_engines - INFO - Creating AgentEngine\n"
     ]
    },
    {
     "name": "stdout",
     "output_type": "stream",
     "text": [
      "Create AgentEngine backing LRO: projects/860802528166/locations/us-central1/reasoningEngines/2023686335293816832/operations/7784530315925520384\n"
     ]
    },
    {
     "name": "stderr",
     "output_type": "stream",
     "text": [
      "2025-09-29 09:41:04,223 - vertexai.agent_engines - INFO - Create AgentEngine backing LRO: projects/860802528166/locations/us-central1/reasoningEngines/2023686335293816832/operations/7784530315925520384\n"
     ]
    },
    {
     "name": "stdout",
     "output_type": "stream",
     "text": [
      "View progress and logs at https://console.cloud.google.com/logs/query?project=ml-demos-cyntia\n"
     ]
    },
    {
     "name": "stderr",
     "output_type": "stream",
     "text": [
      "2025-09-29 09:41:04,225 - vertexai.agent_engines - INFO - View progress and logs at https://console.cloud.google.com/logs/query?project=ml-demos-cyntia\n"
     ]
    },
    {
     "ename": "InvalidArgument",
     "evalue": "400 Reasoning Engine resource [projects/860802528166/locations/us-central1/reasoningEngines/2023686335293816832] failed to start and cannot serve traffic. Please refer to our documentation (https://cloud.google.com/vertex-ai/generative-ai/docs/agent-engine/troubleshooting/deploy) for checking logs and other troubleshooting tips. 3: Reasoning Engine resource [projects/860802528166/locations/us-central1/reasoningEngines/2023686335293816832] failed to start and cannot serve traffic. Please refer to our documentation (https://cloud.google.com/vertex-ai/generative-ai/docs/agent-engine/troubleshooting/deploy) for checking logs and other troubleshooting tips.",
     "output_type": "error",
     "traceback": [
      "\u001b[0;31m---------------------------------------------------------------------------\u001b[0m",
      "\u001b[0;31mInvalidArgument\u001b[0m                           Traceback (most recent call last)",
      "Cell \u001b[0;32mIn[19], line 1\u001b[0m\n\u001b[0;32m----> 1\u001b[0m remote_app \u001b[38;5;241m=\u001b[39m \u001b[43magent_engines\u001b[49m\u001b[38;5;241;43m.\u001b[39;49m\u001b[43mcreate\u001b[49m\u001b[43m(\u001b[49m\n\u001b[1;32m      2\u001b[0m \u001b[43m    \u001b[49m\u001b[43mapp\u001b[49m\u001b[43m,\u001b[49m\n\u001b[1;32m      3\u001b[0m \u001b[43m    \u001b[49m\u001b[43mrequirements\u001b[49m\u001b[38;5;241;43m=\u001b[39;49m\u001b[38;5;124;43m'\u001b[39;49m\u001b[38;5;124;43mrequirements.txt\u001b[39;49m\u001b[38;5;124;43m'\u001b[39;49m\u001b[43m,\u001b[49m\n\u001b[1;32m      4\u001b[0m \u001b[43m    \u001b[49m\u001b[43mextra_packages\u001b[49m\u001b[38;5;241;43m=\u001b[39;49m\u001b[43m[\u001b[49m\u001b[38;5;124;43m'\u001b[39;49m\u001b[38;5;124;43magent.py\u001b[39;49m\u001b[38;5;124;43m'\u001b[39;49m\u001b[43m]\u001b[49m\u001b[43m,\u001b[49m\n\u001b[1;32m      5\u001b[0m \u001b[43m    \u001b[49m\u001b[43mdisplay_name\u001b[49m\u001b[38;5;241;43m=\u001b[39;49m\u001b[38;5;124;43m\"\u001b[39;49m\u001b[38;5;124;43mnatura\u001b[39;49m\u001b[38;5;124;43m\"\u001b[39;49m\u001b[43m,\u001b[49m\n\u001b[1;32m      6\u001b[0m \u001b[43m    \u001b[49m\u001b[43menv_vars\u001b[49m\u001b[38;5;241;43m=\u001b[39;49m\u001b[43magent_env_vars\u001b[49m\n\u001b[1;32m      7\u001b[0m \u001b[43m)\u001b[49m\n\u001b[1;32m      9\u001b[0m remote_app\u001b[38;5;241m.\u001b[39mresource_name\n",
      "File \u001b[0;32m/Library/Frameworks/Python.framework/Versions/3.12/lib/python3.12/site-packages/vertexai/agent_engines/__init__.py:194\u001b[0m, in \u001b[0;36mcreate\u001b[0;34m(agent_engine, requirements, display_name, description, gcs_dir_name, extra_packages, env_vars, build_options, service_account, psc_interface_config, min_instances, max_instances, resource_limits, container_concurrency, encryption_spec)\u001b[0m\n\u001b[1;32m     66\u001b[0m \u001b[38;5;28;01mdef\u001b[39;00m \u001b[38;5;21mcreate\u001b[39m(\n\u001b[1;32m     67\u001b[0m     agent_engine: Optional[_AgentEngineInterface] \u001b[38;5;241m=\u001b[39m \u001b[38;5;28;01mNone\u001b[39;00m,\n\u001b[1;32m     68\u001b[0m     \u001b[38;5;241m*\u001b[39m,\n\u001b[0;32m   (...)\u001b[0m\n\u001b[1;32m     84\u001b[0m     encryption_spec: Optional[aip_types\u001b[38;5;241m.\u001b[39mEncryptionSpec] \u001b[38;5;241m=\u001b[39m \u001b[38;5;28;01mNone\u001b[39;00m,\n\u001b[1;32m     85\u001b[0m ) \u001b[38;5;241m-\u001b[39m\u001b[38;5;241m>\u001b[39m AgentEngine:\n\u001b[1;32m     86\u001b[0m \u001b[38;5;250m    \u001b[39m\u001b[38;5;124;03m\"\"\"Creates a new Agent Engine.\u001b[39;00m\n\u001b[1;32m     87\u001b[0m \n\u001b[1;32m     88\u001b[0m \u001b[38;5;124;03m    The Agent Engine will be an instance of the `agent_engine` that\u001b[39;00m\n\u001b[0;32m   (...)\u001b[0m\n\u001b[1;32m    192\u001b[0m \u001b[38;5;124;03m        nonexistent file.\u001b[39;00m\n\u001b[1;32m    193\u001b[0m \u001b[38;5;124;03m    \"\"\"\u001b[39;00m\n\u001b[0;32m--> 194\u001b[0m     \u001b[38;5;28;01mreturn\u001b[39;00m \u001b[43mAgentEngine\u001b[49m\u001b[38;5;241;43m.\u001b[39;49m\u001b[43mcreate\u001b[49m\u001b[43m(\u001b[49m\n\u001b[1;32m    195\u001b[0m \u001b[43m        \u001b[49m\u001b[43magent_engine\u001b[49m\u001b[38;5;241;43m=\u001b[39;49m\u001b[43magent_engine\u001b[49m\u001b[43m,\u001b[49m\n\u001b[1;32m    196\u001b[0m \u001b[43m        \u001b[49m\u001b[43mrequirements\u001b[49m\u001b[38;5;241;43m=\u001b[39;49m\u001b[43mrequirements\u001b[49m\u001b[43m,\u001b[49m\n\u001b[1;32m    197\u001b[0m \u001b[43m        \u001b[49m\u001b[43mdisplay_name\u001b[49m\u001b[38;5;241;43m=\u001b[39;49m\u001b[43mdisplay_name\u001b[49m\u001b[43m,\u001b[49m\n\u001b[1;32m    198\u001b[0m \u001b[43m        \u001b[49m\u001b[43mdescription\u001b[49m\u001b[38;5;241;43m=\u001b[39;49m\u001b[43mdescription\u001b[49m\u001b[43m,\u001b[49m\n\u001b[1;32m    199\u001b[0m \u001b[43m        \u001b[49m\u001b[43mgcs_dir_name\u001b[49m\u001b[38;5;241;43m=\u001b[39;49m\u001b[43mgcs_dir_name\u001b[49m\u001b[43m,\u001b[49m\n\u001b[1;32m    200\u001b[0m \u001b[43m        \u001b[49m\u001b[43mextra_packages\u001b[49m\u001b[38;5;241;43m=\u001b[39;49m\u001b[43mextra_packages\u001b[49m\u001b[43m,\u001b[49m\n\u001b[1;32m    201\u001b[0m \u001b[43m        \u001b[49m\u001b[43menv_vars\u001b[49m\u001b[38;5;241;43m=\u001b[39;49m\u001b[43menv_vars\u001b[49m\u001b[43m,\u001b[49m\n\u001b[1;32m    202\u001b[0m \u001b[43m        \u001b[49m\u001b[43mbuild_options\u001b[49m\u001b[38;5;241;43m=\u001b[39;49m\u001b[43mbuild_options\u001b[49m\u001b[43m,\u001b[49m\n\u001b[1;32m    203\u001b[0m \u001b[43m        \u001b[49m\u001b[43mservice_account\u001b[49m\u001b[38;5;241;43m=\u001b[39;49m\u001b[43mservice_account\u001b[49m\u001b[43m,\u001b[49m\n\u001b[1;32m    204\u001b[0m \u001b[43m        \u001b[49m\u001b[43mpsc_interface_config\u001b[49m\u001b[38;5;241;43m=\u001b[39;49m\u001b[43mpsc_interface_config\u001b[49m\u001b[43m,\u001b[49m\n\u001b[1;32m    205\u001b[0m \u001b[43m        \u001b[49m\u001b[43mmin_instances\u001b[49m\u001b[38;5;241;43m=\u001b[39;49m\u001b[43mmin_instances\u001b[49m\u001b[43m,\u001b[49m\n\u001b[1;32m    206\u001b[0m \u001b[43m        \u001b[49m\u001b[43mmax_instances\u001b[49m\u001b[38;5;241;43m=\u001b[39;49m\u001b[43mmax_instances\u001b[49m\u001b[43m,\u001b[49m\n\u001b[1;32m    207\u001b[0m \u001b[43m        \u001b[49m\u001b[43mresource_limits\u001b[49m\u001b[38;5;241;43m=\u001b[39;49m\u001b[43mresource_limits\u001b[49m\u001b[43m,\u001b[49m\n\u001b[1;32m    208\u001b[0m \u001b[43m        \u001b[49m\u001b[43mcontainer_concurrency\u001b[49m\u001b[38;5;241;43m=\u001b[39;49m\u001b[43mcontainer_concurrency\u001b[49m\u001b[43m,\u001b[49m\n\u001b[1;32m    209\u001b[0m \u001b[43m        \u001b[49m\u001b[43mencryption_spec\u001b[49m\u001b[38;5;241;43m=\u001b[39;49m\u001b[43mencryption_spec\u001b[49m\u001b[43m,\u001b[49m\n\u001b[1;32m    210\u001b[0m \u001b[43m    \u001b[49m\u001b[43m)\u001b[49m\n",
      "File \u001b[0;32m/Library/Frameworks/Python.framework/Versions/3.12/lib/python3.12/site-packages/vertexai/agent_engines/_agent_engines.py:614\u001b[0m, in \u001b[0;36mAgentEngine.create\u001b[0;34m(cls, agent_engine, requirements, display_name, description, gcs_dir_name, extra_packages, env_vars, build_options, service_account, psc_interface_config, min_instances, max_instances, resource_limits, container_concurrency, encryption_spec)\u001b[0m\n\u001b[1;32m    610\u001b[0m _LOGGER\u001b[38;5;241m.\u001b[39mlog_create_with_lro(\u001b[38;5;28mcls\u001b[39m, operation_future)\n\u001b[1;32m    611\u001b[0m _LOGGER\u001b[38;5;241m.\u001b[39minfo(\n\u001b[1;32m    612\u001b[0m     \u001b[38;5;124mf\u001b[39m\u001b[38;5;124m\"\u001b[39m\u001b[38;5;124mView progress and logs at https://console.cloud.google.com/logs/query?project=\u001b[39m\u001b[38;5;132;01m{\u001b[39;00msdk_resource\u001b[38;5;241m.\u001b[39mproject\u001b[38;5;132;01m}\u001b[39;00m\u001b[38;5;124m\"\u001b[39m\n\u001b[1;32m    613\u001b[0m )\n\u001b[0;32m--> 614\u001b[0m created_resource \u001b[38;5;241m=\u001b[39m \u001b[43moperation_future\u001b[49m\u001b[38;5;241;43m.\u001b[39;49m\u001b[43mresult\u001b[49m\u001b[43m(\u001b[49m\u001b[43m)\u001b[49m\n\u001b[1;32m    615\u001b[0m _LOGGER\u001b[38;5;241m.\u001b[39minfo(\u001b[38;5;124mf\u001b[39m\u001b[38;5;124m\"\u001b[39m\u001b[38;5;132;01m{\u001b[39;00m\u001b[38;5;28mcls\u001b[39m\u001b[38;5;241m.\u001b[39m\u001b[38;5;18m__name__\u001b[39m\u001b[38;5;132;01m}\u001b[39;00m\u001b[38;5;124m created. Resource name: \u001b[39m\u001b[38;5;132;01m{\u001b[39;00mcreated_resource\u001b[38;5;241m.\u001b[39mname\u001b[38;5;132;01m}\u001b[39;00m\u001b[38;5;124m\"\u001b[39m)\n\u001b[1;32m    616\u001b[0m _LOGGER\u001b[38;5;241m.\u001b[39minfo(\u001b[38;5;124mf\u001b[39m\u001b[38;5;124m\"\u001b[39m\u001b[38;5;124mTo use this \u001b[39m\u001b[38;5;132;01m{\u001b[39;00m\u001b[38;5;28mcls\u001b[39m\u001b[38;5;241m.\u001b[39m\u001b[38;5;18m__name__\u001b[39m\u001b[38;5;132;01m}\u001b[39;00m\u001b[38;5;124m in another session:\u001b[39m\u001b[38;5;124m\"\u001b[39m)\n",
      "File \u001b[0;32m/Library/Frameworks/Python.framework/Versions/3.12/lib/python3.12/site-packages/google/api_core/future/polling.py:261\u001b[0m, in \u001b[0;36mPollingFuture.result\u001b[0;34m(self, timeout, retry, polling)\u001b[0m\n\u001b[1;32m    256\u001b[0m \u001b[38;5;28mself\u001b[39m\u001b[38;5;241m.\u001b[39m_blocking_poll(timeout\u001b[38;5;241m=\u001b[39mtimeout, retry\u001b[38;5;241m=\u001b[39mretry, polling\u001b[38;5;241m=\u001b[39mpolling)\n\u001b[1;32m    258\u001b[0m \u001b[38;5;28;01mif\u001b[39;00m \u001b[38;5;28mself\u001b[39m\u001b[38;5;241m.\u001b[39m_exception \u001b[38;5;129;01mis\u001b[39;00m \u001b[38;5;129;01mnot\u001b[39;00m \u001b[38;5;28;01mNone\u001b[39;00m:\n\u001b[1;32m    259\u001b[0m     \u001b[38;5;66;03m# pylint: disable=raising-bad-type\u001b[39;00m\n\u001b[1;32m    260\u001b[0m     \u001b[38;5;66;03m# Pylint doesn't recognize that this is valid in this case.\u001b[39;00m\n\u001b[0;32m--> 261\u001b[0m     \u001b[38;5;28;01mraise\u001b[39;00m \u001b[38;5;28mself\u001b[39m\u001b[38;5;241m.\u001b[39m_exception\n\u001b[1;32m    263\u001b[0m \u001b[38;5;28;01mreturn\u001b[39;00m \u001b[38;5;28mself\u001b[39m\u001b[38;5;241m.\u001b[39m_result\n",
      "\u001b[0;31mInvalidArgument\u001b[0m: 400 Reasoning Engine resource [projects/860802528166/locations/us-central1/reasoningEngines/2023686335293816832] failed to start and cannot serve traffic. Please refer to our documentation (https://cloud.google.com/vertex-ai/generative-ai/docs/agent-engine/troubleshooting/deploy) for checking logs and other troubleshooting tips. 3: Reasoning Engine resource [projects/860802528166/locations/us-central1/reasoningEngines/2023686335293816832] failed to start and cannot serve traffic. Please refer to our documentation (https://cloud.google.com/vertex-ai/generative-ai/docs/agent-engine/troubleshooting/deploy) for checking logs and other troubleshooting tips."
     ]
    }
   ],
   "source": [
    "remote_app = agent_engines.create(\n",
    "    app,\n",
    "    requirements='requirements.txt',\n",
    "    extra_packages=['agent.py'],\n",
    "    display_name=\"natura\",\n",
    "    env_vars=agent_env_vars\n",
    ")\n",
    "\n",
    "remote_app.resource_name"
   ]
  },
  {
   "cell_type": "code",
   "execution_count": 11,
   "id": "4ff3e0e9",
   "metadata": {},
   "outputs": [
    {
     "name": "stdout",
     "output_type": "stream",
     "text": [
      "Reading requirements from requirements='RAG_app/requirements.txt'\n"
     ]
    },
    {
     "name": "stderr",
     "output_type": "stream",
     "text": [
      "2025-09-28 22:07:08,932 - vertexai.agent_engines - INFO - Reading requirements from requirements='RAG_app/requirements.txt'\n"
     ]
    },
    {
     "name": "stdout",
     "output_type": "stream",
     "text": [
      "Read the following lines: ['google-cloud-discoveryengine', 'google-cloud-storage ', 'requests', 'pydantic', 'pytest', 'PyYAML', 'python-dotenv', 'google-cloud-aiplatform[adk,agent_engines]', 'google-auth-oauthlib', 'google-genai', 'google-adk', 'cloudpickle']\n"
     ]
    },
    {
     "name": "stderr",
     "output_type": "stream",
     "text": [
      "2025-09-28 22:07:08,937 - vertexai.agent_engines - INFO - Read the following lines: ['google-cloud-discoveryengine', 'google-cloud-storage ', 'requests', 'pydantic', 'pytest', 'PyYAML', 'python-dotenv', 'google-cloud-aiplatform[adk,agent_engines]', 'google-auth-oauthlib', 'google-genai', 'google-adk', 'cloudpickle']\n"
     ]
    },
    {
     "name": "stdout",
     "output_type": "stream",
     "text": [
      "Identified the following requirements: {'cloudpickle': '3.1.1', 'pydantic': '2.11.1', 'google-cloud-aiplatform': '1.114.0'}\n"
     ]
    },
    {
     "name": "stderr",
     "output_type": "stream",
     "text": [
      "2025-09-28 22:07:08,956 - vertexai.agent_engines - INFO - Identified the following requirements: {'cloudpickle': '3.1.1', 'pydantic': '2.11.1', 'google-cloud-aiplatform': '1.114.0'}\n"
     ]
    },
    {
     "name": "stdout",
     "output_type": "stream",
     "text": [
      "The final list of requirements: ['google-cloud-discoveryengine', 'google-cloud-storage ', 'requests', 'pydantic', 'pytest', 'PyYAML', 'python-dotenv', 'google-cloud-aiplatform[adk,agent_engines]', 'google-auth-oauthlib', 'google-genai', 'google-adk', 'cloudpickle']\n"
     ]
    },
    {
     "name": "stderr",
     "output_type": "stream",
     "text": [
      "2025-09-28 22:07:08,960 - vertexai.agent_engines - INFO - The final list of requirements: ['google-cloud-discoveryengine', 'google-cloud-storage ', 'requests', 'pydantic', 'pytest', 'PyYAML', 'python-dotenv', 'google-cloud-aiplatform[adk,agent_engines]', 'google-auth-oauthlib', 'google-genai', 'google-adk', 'cloudpickle']\n"
     ]
    },
    {
     "name": "stdout",
     "output_type": "stream",
     "text": [
      "Using bucket adk-demo-cyntia\n"
     ]
    },
    {
     "name": "stderr",
     "output_type": "stream",
     "text": [
      "2025-09-28 22:07:11,289 - vertexai.agent_engines - INFO - Using bucket adk-demo-cyntia\n"
     ]
    },
    {
     "name": "stdout",
     "output_type": "stream",
     "text": [
      "Wrote to gs://adk-demo-cyntia/agent_engine/agent_engine.pkl\n"
     ]
    },
    {
     "name": "stderr",
     "output_type": "stream",
     "text": [
      "2025-09-28 22:07:11,857 - vertexai.agent_engines - INFO - Wrote to gs://adk-demo-cyntia/agent_engine/agent_engine.pkl\n"
     ]
    },
    {
     "name": "stdout",
     "output_type": "stream",
     "text": [
      "Writing to gs://adk-demo-cyntia/agent_engine/requirements.txt\n"
     ]
    },
    {
     "name": "stderr",
     "output_type": "stream",
     "text": [
      "2025-09-28 22:07:12,124 - vertexai.agent_engines - INFO - Writing to gs://adk-demo-cyntia/agent_engine/requirements.txt\n"
     ]
    },
    {
     "name": "stdout",
     "output_type": "stream",
     "text": [
      "Creating in-memory tarfile of extra_packages\n"
     ]
    },
    {
     "name": "stderr",
     "output_type": "stream",
     "text": [
      "2025-09-28 22:07:12,125 - vertexai.agent_engines - INFO - Creating in-memory tarfile of extra_packages\n"
     ]
    },
    {
     "name": "stdout",
     "output_type": "stream",
     "text": [
      "Writing to gs://adk-demo-cyntia/agent_engine/dependencies.tar.gz\n"
     ]
    },
    {
     "name": "stderr",
     "output_type": "stream",
     "text": [
      "2025-09-28 22:07:12,398 - vertexai.agent_engines - INFO - Writing to gs://adk-demo-cyntia/agent_engine/dependencies.tar.gz\n"
     ]
    },
    {
     "name": "stdout",
     "output_type": "stream",
     "text": [
      "failed to generate schema for async_add_session_to_memory: `async_add_session_to_memory` is not fully defined; you should define `Session`, then call `async_add_session_to_memory.model_rebuild()`.\n",
      "\n",
      "For further information visit https://errors.pydantic.dev/2.11/u/class-not-fully-defined\n"
     ]
    },
    {
     "name": "stderr",
     "output_type": "stream",
     "text": [
      "2025-09-28 22:07:12,450 - vertexai.agent_engines - WARNING - failed to generate schema for async_add_session_to_memory: `async_add_session_to_memory` is not fully defined; you should define `Session`, then call `async_add_session_to_memory.model_rebuild()`.\n",
      "\n",
      "For further information visit https://errors.pydantic.dev/2.11/u/class-not-fully-defined\n"
     ]
    },
    {
     "name": "stdout",
     "output_type": "stream",
     "text": [
      "Creating AgentEngine\n"
     ]
    },
    {
     "name": "stderr",
     "output_type": "stream",
     "text": [
      "2025-09-28 22:07:13,490 - vertexai.agent_engines - INFO - Creating AgentEngine\n"
     ]
    },
    {
     "name": "stdout",
     "output_type": "stream",
     "text": [
      "Create AgentEngine backing LRO: projects/860802528166/locations/us-central1/reasoningEngines/813343935437996032/operations/8506394883932553216\n"
     ]
    },
    {
     "name": "stderr",
     "output_type": "stream",
     "text": [
      "2025-09-28 22:07:13,492 - vertexai.agent_engines - INFO - Create AgentEngine backing LRO: projects/860802528166/locations/us-central1/reasoningEngines/813343935437996032/operations/8506394883932553216\n"
     ]
    },
    {
     "name": "stdout",
     "output_type": "stream",
     "text": [
      "View progress and logs at https://console.cloud.google.com/logs/query?project=ml-demos-cyntia\n"
     ]
    },
    {
     "name": "stderr",
     "output_type": "stream",
     "text": [
      "2025-09-28 22:07:13,494 - vertexai.agent_engines - INFO - View progress and logs at https://console.cloud.google.com/logs/query?project=ml-demos-cyntia\n"
     ]
    },
    {
     "ename": "InvalidArgument",
     "evalue": "400 Reasoning Engine resource [projects/860802528166/locations/us-central1/reasoningEngines/813343935437996032] failed to start and cannot serve traffic. Please refer to our documentation (https://cloud.google.com/vertex-ai/generative-ai/docs/agent-engine/troubleshooting/deploy) for checking logs and other troubleshooting tips. 3: Reasoning Engine resource [projects/860802528166/locations/us-central1/reasoningEngines/813343935437996032] failed to start and cannot serve traffic. Please refer to our documentation (https://cloud.google.com/vertex-ai/generative-ai/docs/agent-engine/troubleshooting/deploy) for checking logs and other troubleshooting tips.",
     "output_type": "error",
     "traceback": [
      "\u001b[0;31m---------------------------------------------------------------------------\u001b[0m",
      "\u001b[0;31mInvalidArgument\u001b[0m                           Traceback (most recent call last)",
      "Cell \u001b[0;32mIn[11], line 1\u001b[0m\n\u001b[0;32m----> 1\u001b[0m remote_app \u001b[38;5;241m=\u001b[39m \u001b[43magent_engines\u001b[49m\u001b[38;5;241;43m.\u001b[39;49m\u001b[43mcreate\u001b[49m\u001b[43m(\u001b[49m\n\u001b[1;32m      2\u001b[0m \u001b[43m    \u001b[49m\u001b[43mapp\u001b[49m\u001b[43m,\u001b[49m\n\u001b[1;32m      3\u001b[0m \u001b[43m    \u001b[49m\u001b[43mrequirements\u001b[49m\u001b[38;5;241;43m=\u001b[39;49m\u001b[38;5;124;43m\"\u001b[39;49m\u001b[38;5;124;43mRAG_app/requirements.txt\u001b[39;49m\u001b[38;5;124;43m\"\u001b[39;49m\u001b[43m,\u001b[49m\n\u001b[1;32m      4\u001b[0m \u001b[43m    \u001b[49m\u001b[43mextra_packages\u001b[49m\u001b[38;5;241;43m=\u001b[39;49m\u001b[43m[\u001b[49m\u001b[38;5;124;43m\"\u001b[39;49m\u001b[38;5;124;43mRAG_app/agent.py\u001b[39;49m\u001b[38;5;124;43m\"\u001b[39;49m\u001b[43m]\u001b[49m\u001b[43m,\u001b[49m\n\u001b[1;32m      5\u001b[0m \u001b[43m    \u001b[49m\u001b[43mdisplay_name\u001b[49m\u001b[38;5;241;43m=\u001b[39;49m\u001b[43mAGENT_DISPLAY_NAME\u001b[49m\u001b[43m,\u001b[49m\n\u001b[1;32m      6\u001b[0m \u001b[43m    \u001b[49m\u001b[43menv_vars\u001b[49m\u001b[38;5;241;43m=\u001b[39;49m\u001b[43magent_env_vars\u001b[49m\n\u001b[1;32m      7\u001b[0m \u001b[43m)\u001b[49m\n",
      "File \u001b[0;32m/Library/Frameworks/Python.framework/Versions/3.12/lib/python3.12/site-packages/vertexai/agent_engines/__init__.py:194\u001b[0m, in \u001b[0;36mcreate\u001b[0;34m(agent_engine, requirements, display_name, description, gcs_dir_name, extra_packages, env_vars, build_options, service_account, psc_interface_config, min_instances, max_instances, resource_limits, container_concurrency, encryption_spec)\u001b[0m\n\u001b[1;32m     66\u001b[0m \u001b[38;5;28;01mdef\u001b[39;00m \u001b[38;5;21mcreate\u001b[39m(\n\u001b[1;32m     67\u001b[0m     agent_engine: Optional[_AgentEngineInterface] \u001b[38;5;241m=\u001b[39m \u001b[38;5;28;01mNone\u001b[39;00m,\n\u001b[1;32m     68\u001b[0m     \u001b[38;5;241m*\u001b[39m,\n\u001b[0;32m   (...)\u001b[0m\n\u001b[1;32m     84\u001b[0m     encryption_spec: Optional[aip_types\u001b[38;5;241m.\u001b[39mEncryptionSpec] \u001b[38;5;241m=\u001b[39m \u001b[38;5;28;01mNone\u001b[39;00m,\n\u001b[1;32m     85\u001b[0m ) \u001b[38;5;241m-\u001b[39m\u001b[38;5;241m>\u001b[39m AgentEngine:\n\u001b[1;32m     86\u001b[0m \u001b[38;5;250m    \u001b[39m\u001b[38;5;124;03m\"\"\"Creates a new Agent Engine.\u001b[39;00m\n\u001b[1;32m     87\u001b[0m \n\u001b[1;32m     88\u001b[0m \u001b[38;5;124;03m    The Agent Engine will be an instance of the `agent_engine` that\u001b[39;00m\n\u001b[0;32m   (...)\u001b[0m\n\u001b[1;32m    192\u001b[0m \u001b[38;5;124;03m        nonexistent file.\u001b[39;00m\n\u001b[1;32m    193\u001b[0m \u001b[38;5;124;03m    \"\"\"\u001b[39;00m\n\u001b[0;32m--> 194\u001b[0m     \u001b[38;5;28;01mreturn\u001b[39;00m \u001b[43mAgentEngine\u001b[49m\u001b[38;5;241;43m.\u001b[39;49m\u001b[43mcreate\u001b[49m\u001b[43m(\u001b[49m\n\u001b[1;32m    195\u001b[0m \u001b[43m        \u001b[49m\u001b[43magent_engine\u001b[49m\u001b[38;5;241;43m=\u001b[39;49m\u001b[43magent_engine\u001b[49m\u001b[43m,\u001b[49m\n\u001b[1;32m    196\u001b[0m \u001b[43m        \u001b[49m\u001b[43mrequirements\u001b[49m\u001b[38;5;241;43m=\u001b[39;49m\u001b[43mrequirements\u001b[49m\u001b[43m,\u001b[49m\n\u001b[1;32m    197\u001b[0m \u001b[43m        \u001b[49m\u001b[43mdisplay_name\u001b[49m\u001b[38;5;241;43m=\u001b[39;49m\u001b[43mdisplay_name\u001b[49m\u001b[43m,\u001b[49m\n\u001b[1;32m    198\u001b[0m \u001b[43m        \u001b[49m\u001b[43mdescription\u001b[49m\u001b[38;5;241;43m=\u001b[39;49m\u001b[43mdescription\u001b[49m\u001b[43m,\u001b[49m\n\u001b[1;32m    199\u001b[0m \u001b[43m        \u001b[49m\u001b[43mgcs_dir_name\u001b[49m\u001b[38;5;241;43m=\u001b[39;49m\u001b[43mgcs_dir_name\u001b[49m\u001b[43m,\u001b[49m\n\u001b[1;32m    200\u001b[0m \u001b[43m        \u001b[49m\u001b[43mextra_packages\u001b[49m\u001b[38;5;241;43m=\u001b[39;49m\u001b[43mextra_packages\u001b[49m\u001b[43m,\u001b[49m\n\u001b[1;32m    201\u001b[0m \u001b[43m        \u001b[49m\u001b[43menv_vars\u001b[49m\u001b[38;5;241;43m=\u001b[39;49m\u001b[43menv_vars\u001b[49m\u001b[43m,\u001b[49m\n\u001b[1;32m    202\u001b[0m \u001b[43m        \u001b[49m\u001b[43mbuild_options\u001b[49m\u001b[38;5;241;43m=\u001b[39;49m\u001b[43mbuild_options\u001b[49m\u001b[43m,\u001b[49m\n\u001b[1;32m    203\u001b[0m \u001b[43m        \u001b[49m\u001b[43mservice_account\u001b[49m\u001b[38;5;241;43m=\u001b[39;49m\u001b[43mservice_account\u001b[49m\u001b[43m,\u001b[49m\n\u001b[1;32m    204\u001b[0m \u001b[43m        \u001b[49m\u001b[43mpsc_interface_config\u001b[49m\u001b[38;5;241;43m=\u001b[39;49m\u001b[43mpsc_interface_config\u001b[49m\u001b[43m,\u001b[49m\n\u001b[1;32m    205\u001b[0m \u001b[43m        \u001b[49m\u001b[43mmin_instances\u001b[49m\u001b[38;5;241;43m=\u001b[39;49m\u001b[43mmin_instances\u001b[49m\u001b[43m,\u001b[49m\n\u001b[1;32m    206\u001b[0m \u001b[43m        \u001b[49m\u001b[43mmax_instances\u001b[49m\u001b[38;5;241;43m=\u001b[39;49m\u001b[43mmax_instances\u001b[49m\u001b[43m,\u001b[49m\n\u001b[1;32m    207\u001b[0m \u001b[43m        \u001b[49m\u001b[43mresource_limits\u001b[49m\u001b[38;5;241;43m=\u001b[39;49m\u001b[43mresource_limits\u001b[49m\u001b[43m,\u001b[49m\n\u001b[1;32m    208\u001b[0m \u001b[43m        \u001b[49m\u001b[43mcontainer_concurrency\u001b[49m\u001b[38;5;241;43m=\u001b[39;49m\u001b[43mcontainer_concurrency\u001b[49m\u001b[43m,\u001b[49m\n\u001b[1;32m    209\u001b[0m \u001b[43m        \u001b[49m\u001b[43mencryption_spec\u001b[49m\u001b[38;5;241;43m=\u001b[39;49m\u001b[43mencryption_spec\u001b[49m\u001b[43m,\u001b[49m\n\u001b[1;32m    210\u001b[0m \u001b[43m    \u001b[49m\u001b[43m)\u001b[49m\n",
      "File \u001b[0;32m/Library/Frameworks/Python.framework/Versions/3.12/lib/python3.12/site-packages/vertexai/agent_engines/_agent_engines.py:614\u001b[0m, in \u001b[0;36mAgentEngine.create\u001b[0;34m(cls, agent_engine, requirements, display_name, description, gcs_dir_name, extra_packages, env_vars, build_options, service_account, psc_interface_config, min_instances, max_instances, resource_limits, container_concurrency, encryption_spec)\u001b[0m\n\u001b[1;32m    610\u001b[0m _LOGGER\u001b[38;5;241m.\u001b[39mlog_create_with_lro(\u001b[38;5;28mcls\u001b[39m, operation_future)\n\u001b[1;32m    611\u001b[0m _LOGGER\u001b[38;5;241m.\u001b[39minfo(\n\u001b[1;32m    612\u001b[0m     \u001b[38;5;124mf\u001b[39m\u001b[38;5;124m\"\u001b[39m\u001b[38;5;124mView progress and logs at https://console.cloud.google.com/logs/query?project=\u001b[39m\u001b[38;5;132;01m{\u001b[39;00msdk_resource\u001b[38;5;241m.\u001b[39mproject\u001b[38;5;132;01m}\u001b[39;00m\u001b[38;5;124m\"\u001b[39m\n\u001b[1;32m    613\u001b[0m )\n\u001b[0;32m--> 614\u001b[0m created_resource \u001b[38;5;241m=\u001b[39m \u001b[43moperation_future\u001b[49m\u001b[38;5;241;43m.\u001b[39;49m\u001b[43mresult\u001b[49m\u001b[43m(\u001b[49m\u001b[43m)\u001b[49m\n\u001b[1;32m    615\u001b[0m _LOGGER\u001b[38;5;241m.\u001b[39minfo(\u001b[38;5;124mf\u001b[39m\u001b[38;5;124m\"\u001b[39m\u001b[38;5;132;01m{\u001b[39;00m\u001b[38;5;28mcls\u001b[39m\u001b[38;5;241m.\u001b[39m\u001b[38;5;18m__name__\u001b[39m\u001b[38;5;132;01m}\u001b[39;00m\u001b[38;5;124m created. Resource name: \u001b[39m\u001b[38;5;132;01m{\u001b[39;00mcreated_resource\u001b[38;5;241m.\u001b[39mname\u001b[38;5;132;01m}\u001b[39;00m\u001b[38;5;124m\"\u001b[39m)\n\u001b[1;32m    616\u001b[0m _LOGGER\u001b[38;5;241m.\u001b[39minfo(\u001b[38;5;124mf\u001b[39m\u001b[38;5;124m\"\u001b[39m\u001b[38;5;124mTo use this \u001b[39m\u001b[38;5;132;01m{\u001b[39;00m\u001b[38;5;28mcls\u001b[39m\u001b[38;5;241m.\u001b[39m\u001b[38;5;18m__name__\u001b[39m\u001b[38;5;132;01m}\u001b[39;00m\u001b[38;5;124m in another session:\u001b[39m\u001b[38;5;124m\"\u001b[39m)\n",
      "File \u001b[0;32m/Library/Frameworks/Python.framework/Versions/3.12/lib/python3.12/site-packages/google/api_core/future/polling.py:261\u001b[0m, in \u001b[0;36mPollingFuture.result\u001b[0;34m(self, timeout, retry, polling)\u001b[0m\n\u001b[1;32m    256\u001b[0m \u001b[38;5;28mself\u001b[39m\u001b[38;5;241m.\u001b[39m_blocking_poll(timeout\u001b[38;5;241m=\u001b[39mtimeout, retry\u001b[38;5;241m=\u001b[39mretry, polling\u001b[38;5;241m=\u001b[39mpolling)\n\u001b[1;32m    258\u001b[0m \u001b[38;5;28;01mif\u001b[39;00m \u001b[38;5;28mself\u001b[39m\u001b[38;5;241m.\u001b[39m_exception \u001b[38;5;129;01mis\u001b[39;00m \u001b[38;5;129;01mnot\u001b[39;00m \u001b[38;5;28;01mNone\u001b[39;00m:\n\u001b[1;32m    259\u001b[0m     \u001b[38;5;66;03m# pylint: disable=raising-bad-type\u001b[39;00m\n\u001b[1;32m    260\u001b[0m     \u001b[38;5;66;03m# Pylint doesn't recognize that this is valid in this case.\u001b[39;00m\n\u001b[0;32m--> 261\u001b[0m     \u001b[38;5;28;01mraise\u001b[39;00m \u001b[38;5;28mself\u001b[39m\u001b[38;5;241m.\u001b[39m_exception\n\u001b[1;32m    263\u001b[0m \u001b[38;5;28;01mreturn\u001b[39;00m \u001b[38;5;28mself\u001b[39m\u001b[38;5;241m.\u001b[39m_result\n",
      "\u001b[0;31mInvalidArgument\u001b[0m: 400 Reasoning Engine resource [projects/860802528166/locations/us-central1/reasoningEngines/813343935437996032] failed to start and cannot serve traffic. Please refer to our documentation (https://cloud.google.com/vertex-ai/generative-ai/docs/agent-engine/troubleshooting/deploy) for checking logs and other troubleshooting tips. 3: Reasoning Engine resource [projects/860802528166/locations/us-central1/reasoningEngines/813343935437996032] failed to start and cannot serve traffic. Please refer to our documentation (https://cloud.google.com/vertex-ai/generative-ai/docs/agent-engine/troubleshooting/deploy) for checking logs and other troubleshooting tips."
     ]
    }
   ],
   "source": [
    "remote_app = agent_engines.create(\n",
    "    app,\n",
    "    requirements=\"RAG_app/requirements.txt\",\n",
    "    extra_packages=[\"RAG_app/agent.py\"],\n",
    "    display_name=AGENT_DISPLAY_NAME,\n",
    "    env_vars=agent_env_vars\n",
    ")"
   ]
  },
  {
   "cell_type": "code",
   "execution_count": 18,
   "id": "c1138c12",
   "metadata": {},
   "outputs": [
    {
     "name": "stdout",
     "output_type": "stream",
     "text": [
      "Resource name: projects/860802528166/locations/us-central1/reasoningEngines/7597172349141516288\n"
     ]
    }
   ],
   "source": [
    "resource_name = remote_app.resource_name\n",
    "print(f\"Resource name: {resource_name}\")"
   ]
  },
  {
   "cell_type": "code",
   "execution_count": 19,
   "id": "556d83ed",
   "metadata": {},
   "outputs": [
    {
     "data": {
      "text/plain": [
       "(True, 'REASONING_ENGINE_ID', '7597172349141516288')"
      ]
     },
     "execution_count": 19,
     "metadata": {},
     "output_type": "execute_result"
    }
   ],
   "source": [
    "set_key(dotenv_path=\"../.env\", key_to_set=\"REASONING_ENGINE_ID\", value_to_set=resource_name.split('/')[-1])"
   ]
  },
  {
   "cell_type": "markdown",
   "id": "5c4d7218",
   "metadata": {},
   "source": [
    "## Teste Agent Engine\n",
    "\n",
    "Obs: Não vai encontrar o documento se precisar de Autenticação, como gDrive. Vamos apenas testar o endpoint"
   ]
  },
  {
   "cell_type": "code",
   "execution_count": 7,
   "id": "0ec669ce",
   "metadata": {},
   "outputs": [],
   "source": [
    "AGENT_DISPLAY_NAME = os.environ[\"GOOGLE_CLOUD_PROJECT_NUMBER\"]"
   ]
  },
  {
   "cell_type": "code",
   "execution_count": 8,
   "id": "e4374364",
   "metadata": {},
   "outputs": [
    {
     "name": "stdout",
     "output_type": "stream",
     "text": [
      "Resource name: projects/860802528166/locations/us-central1/reasoningEngines/8848891570573803520\n"
     ]
    }
   ],
   "source": [
    "if 'resource_name' not in locals():\n",
    "    REASONING_ENGINE_ID = os.environ[\"REASONING_ENGINE_ID\"]\n",
    "    PROJECT_NUMBER = os.environ[\"GOOGLE_CLOUD_PROJECT_NUMBER\"]\n",
    "    resource_name = f\"projects/{PROJECT_NUMBER}/locations/us-central1/reasoningEngines/{REASONING_ENGINE_ID}\"\n",
    "\n",
    "print(f\"Resource name: {resource_name}\")\n",
    "remote_agent = agent_engines.get(resource_name)"
   ]
  },
  {
   "cell_type": "code",
   "execution_count": 9,
   "id": "b73ad62a",
   "metadata": {},
   "outputs": [],
   "source": [
    "query = \"Qual a misao da TBG? Qual a URL retornada?\"\n",
    "user_id=\"u_123\""
   ]
  },
  {
   "cell_type": "code",
   "execution_count": 10,
   "id": "e57e41ee",
   "metadata": {},
   "outputs": [
    {
     "name": "stdout",
     "output_type": "stream",
     "text": [
      "\n",
      "--- Final Response ---\n",
      "Não foi possível encontrar a missão da TBG utilizando as ferramentas disponíveis. A URL retornada pela busca é: `https://global-discoveryengine.googleapis.com/v1alpha/projects/860802528166/locations/global/collections/default_collection/engines/apagar_1751381593128/assistants/default_assistant:streamAssist`. Parece ser um endpoint de API interno e não uma URL pública da TBG.\n"
     ]
    }
   ],
   "source": [
    "events = []\n",
    "async for event in remote_agent.async_stream_query(\n",
    "    user_id=user_id,\n",
    "    message=query,\n",
    "):\n",
    "    events.append(event)\n",
    "\n",
    "\n",
    "# For quick tests, you can extract just the final text response\n",
    "final_text_responses = [\n",
    "    e for e in events\n",
    "    if e.get(\"content\", {}).get(\"parts\", [{}])[0].get(\"text\")\n",
    "    and not e.get(\"content\", {}).get(\"parts\", [{}])[0].get(\"function_call\")\n",
    "]\n",
    "if final_text_responses:\n",
    "    print(\"\\n--- Final Response ---\")\n",
    "    print(final_text_responses[0][\"content\"][\"parts\"][0][\"text\"])"
   ]
  },
  {
   "cell_type": "code",
   "execution_count": 32,
   "id": "88489999",
   "metadata": {},
   "outputs": [
    {
     "data": {
      "text/plain": [
       "[]"
      ]
     },
     "execution_count": 32,
     "metadata": {},
     "output_type": "execute_result"
    }
   ],
   "source": [
    "events"
   ]
  },
  {
   "cell_type": "markdown",
   "id": "f99e62b6",
   "metadata": {},
   "source": [
    "## Update Agent"
   ]
  },
  {
   "cell_type": "code",
   "execution_count": 14,
   "id": "d038e62c",
   "metadata": {},
   "outputs": [],
   "source": [
    "agent_env_vars = dotenv_values(\"../.env\")\n",
    "del agent_env_vars[\"GOOGLE_CLOUD_LOCATION\"]\n",
    "del agent_env_vars[\"GOOGLE_CLOUD_PROJECT\"]"
   ]
  },
  {
   "cell_type": "code",
   "execution_count": 15,
   "id": "d2a73d25",
   "metadata": {},
   "outputs": [
    {
     "name": "stdout",
     "output_type": "stream",
     "text": [
      "Resource name: projects/860802528166/locations/us-central1/reasoningEngines/2336686509396066304\n"
     ]
    }
   ],
   "source": [
    "if 'resource_name' not in locals():\n",
    "    REASONING_ENGINE_ID = os.environ[\"REASONING_ENGINE_ID\"]\n",
    "    PROJECT_NUMBER = os.environ[\"GOOGLE_CLOUD_PROJECT_NUMBER\"]\n",
    "    resource_name = f\"projects/{PROJECT_NUMBER}/locations/us-central1/reasoningEngines/{REASONING_ENGINE_ID}\"\n",
    "\n",
    "print(f\"Resource name: {resource_name}\")\n",
    "remote_agent = agent_engines.get(resource_name)"
   ]
  },
  {
   "cell_type": "code",
   "execution_count": 9,
   "id": "850afae9",
   "metadata": {},
   "outputs": [
    {
     "name": "stdout",
     "output_type": "stream",
     "text": [
      "Reading requirements from requirements='requirements.txt'\n"
     ]
    },
    {
     "name": "stderr",
     "output_type": "stream",
     "text": [
      "2025-09-26 09:56:24,304 - vertexai.agent_engines - INFO - Reading requirements from requirements='requirements.txt'\n"
     ]
    },
    {
     "name": "stdout",
     "output_type": "stream",
     "text": [
      "Read the following lines: ['google-cloud-discoveryengine', 'google-cloud-storage ', 'requests', 'pydantic', 'pytest', 'PyYAML', 'python-dotenv', 'google-cloud-aiplatform[adk,agent_engines]', 'google-auth-oauthlib', 'google-genai', 'google-adk', 'cloudpickle']\n"
     ]
    },
    {
     "name": "stderr",
     "output_type": "stream",
     "text": [
      "2025-09-26 09:56:24,306 - vertexai.agent_engines - INFO - Read the following lines: ['google-cloud-discoveryengine', 'google-cloud-storage ', 'requests', 'pydantic', 'pytest', 'PyYAML', 'python-dotenv', 'google-cloud-aiplatform[adk,agent_engines]', 'google-auth-oauthlib', 'google-genai', 'google-adk', 'cloudpickle']\n"
     ]
    },
    {
     "name": "stdout",
     "output_type": "stream",
     "text": [
      "Identified the following requirements: {'cloudpickle': '3.1.1', 'pydantic': '2.11.1', 'google-cloud-aiplatform': '1.114.0'}\n"
     ]
    },
    {
     "name": "stderr",
     "output_type": "stream",
     "text": [
      "2025-09-26 09:56:24,313 - vertexai.agent_engines - INFO - Identified the following requirements: {'cloudpickle': '3.1.1', 'pydantic': '2.11.1', 'google-cloud-aiplatform': '1.114.0'}\n"
     ]
    },
    {
     "name": "stdout",
     "output_type": "stream",
     "text": [
      "The final list of requirements: ['google-cloud-discoveryengine', 'google-cloud-storage ', 'requests', 'pydantic', 'pytest', 'PyYAML', 'python-dotenv', 'google-cloud-aiplatform[adk,agent_engines]', 'google-auth-oauthlib', 'google-genai', 'google-adk', 'cloudpickle']\n"
     ]
    },
    {
     "name": "stderr",
     "output_type": "stream",
     "text": [
      "2025-09-26 09:56:24,333 - vertexai.agent_engines - INFO - The final list of requirements: ['google-cloud-discoveryengine', 'google-cloud-storage ', 'requests', 'pydantic', 'pytest', 'PyYAML', 'python-dotenv', 'google-cloud-aiplatform[adk,agent_engines]', 'google-auth-oauthlib', 'google-genai', 'google-adk', 'cloudpickle']\n"
     ]
    },
    {
     "name": "stdout",
     "output_type": "stream",
     "text": [
      "Using bucket adk-demo-cyntia\n"
     ]
    },
    {
     "name": "stderr",
     "output_type": "stream",
     "text": [
      "2025-09-26 09:56:26,218 - vertexai.agent_engines - INFO - Using bucket adk-demo-cyntia\n"
     ]
    },
    {
     "name": "stdout",
     "output_type": "stream",
     "text": [
      "Wrote to gs://adk-demo-cyntia/agent_engine/agent_engine.pkl\n"
     ]
    },
    {
     "name": "stderr",
     "output_type": "stream",
     "text": [
      "2025-09-26 09:56:27,441 - vertexai.agent_engines - INFO - Wrote to gs://adk-demo-cyntia/agent_engine/agent_engine.pkl\n"
     ]
    },
    {
     "name": "stdout",
     "output_type": "stream",
     "text": [
      "Writing to gs://adk-demo-cyntia/agent_engine/requirements.txt\n"
     ]
    },
    {
     "name": "stderr",
     "output_type": "stream",
     "text": [
      "2025-09-26 09:56:27,762 - vertexai.agent_engines - INFO - Writing to gs://adk-demo-cyntia/agent_engine/requirements.txt\n"
     ]
    },
    {
     "name": "stdout",
     "output_type": "stream",
     "text": [
      "Creating in-memory tarfile of extra_packages\n"
     ]
    },
    {
     "name": "stderr",
     "output_type": "stream",
     "text": [
      "2025-09-26 09:56:27,763 - vertexai.agent_engines - INFO - Creating in-memory tarfile of extra_packages\n"
     ]
    },
    {
     "name": "stdout",
     "output_type": "stream",
     "text": [
      "Writing to gs://adk-demo-cyntia/agent_engine/dependencies.tar.gz\n"
     ]
    },
    {
     "name": "stderr",
     "output_type": "stream",
     "text": [
      "2025-09-26 09:56:28,090 - vertexai.agent_engines - INFO - Writing to gs://adk-demo-cyntia/agent_engine/dependencies.tar.gz\n"
     ]
    },
    {
     "name": "stdout",
     "output_type": "stream",
     "text": [
      "failed to generate schema for async_add_session_to_memory: `async_add_session_to_memory` is not fully defined; you should define `Session`, then call `async_add_session_to_memory.model_rebuild()`.\n",
      "\n",
      "For further information visit https://errors.pydantic.dev/2.11/u/class-not-fully-defined\n"
     ]
    },
    {
     "name": "stderr",
     "output_type": "stream",
     "text": [
      "2025-09-26 09:56:28,098 - vertexai.agent_engines - WARNING - failed to generate schema for async_add_session_to_memory: `async_add_session_to_memory` is not fully defined; you should define `Session`, then call `async_add_session_to_memory.model_rebuild()`.\n",
      "\n",
      "For further information visit https://errors.pydantic.dev/2.11/u/class-not-fully-defined\n"
     ]
    },
    {
     "name": "stdout",
     "output_type": "stream",
     "text": [
      "Update Agent Engine backing LRO: projects/860802528166/locations/us-central1/reasoningEngines/7597172349141516288/operations/5850435486597775360\n"
     ]
    },
    {
     "name": "stderr",
     "output_type": "stream",
     "text": [
      "2025-09-26 09:56:29,163 - vertexai.agent_engines - INFO - Update Agent Engine backing LRO: projects/860802528166/locations/us-central1/reasoningEngines/7597172349141516288/operations/5850435486597775360\n"
     ]
    },
    {
     "name": "stdout",
     "output_type": "stream",
     "text": [
      "Agent Engine updated. Resource name: projects/860802528166/locations/us-central1/reasoningEngines/7597172349141516288\n"
     ]
    },
    {
     "name": "stderr",
     "output_type": "stream",
     "text": [
      "2025-09-26 09:59:40,762 - vertexai.agent_engines - INFO - Agent Engine updated. Resource name: projects/860802528166/locations/us-central1/reasoningEngines/7597172349141516288\n"
     ]
    },
    {
     "data": {
      "text/plain": [
       "<vertexai.agent_engines._agent_engines.AgentEngine object at 0x117ab3ce0> \n",
       "resource name: projects/860802528166/locations/us-central1/reasoningEngines/7597172349141516288"
      ]
     },
     "execution_count": 9,
     "metadata": {},
     "output_type": "execute_result"
    }
   ],
   "source": [
    "from vertexai import agent_engines\n",
    "\n",
    "agent_engines.update(\n",
    "    resource_name=resource_name,    # Required.\n",
    "    agent_engine=app,     # Optional.\n",
    "    requirements=\"requirements.txt\",      # Optional.\n",
    "    display_name=\"natura\",    # Optional.\n",
    "    extra_packages=[\"agent.py\"],  # Optional.\n",
    "    env_vars=agent_env_vars\n",
    ")"
   ]
  },
  {
   "cell_type": "markdown",
   "id": "28619159",
   "metadata": {},
   "source": [
    "## Rode os códigos abaixo"
   ]
  },
  {
   "cell_type": "markdown",
   "id": "bc6e74f7",
   "metadata": {},
   "source": [
    "python3 03_register_authorization_resource.py\n",
    "\n",
    "python3 04_register_agentoauth.py"
   ]
  },
  {
   "cell_type": "code",
   "execution_count": 1,
   "id": "90b4ddea",
   "metadata": {},
   "outputs": [
    {
     "name": "stdout",
     "output_type": "stream",
     "text": [
      "absolufy-imports==0.3.1\n",
      "aiohttp==3.9.0\n",
      "aiosignal==1.3.1\n",
      "alembic==1.16.5\n",
      "altair==5.3.0\n",
      "annotated-types==0.6.0\n",
      "anyio==4.9.0\n",
      "appnope==0.1.3\n",
      "asttokens==2.4.1\n",
      "attrs==23.1.0\n",
      "Authlib==1.6.3\n",
      "blinker==1.9.0\n",
      "cachetools==5.3.2\n",
      "certifi==2024.7.4\n",
      "cffi==2.0.0\n",
      "charset-normalizer==3.3.2\n",
      "click==8.2.1\n",
      "cloudpickle==3.1.1\n",
      "comm==0.2.0\n",
      "cryptography==45.0.7\n",
      "dataclasses-json==0.6.2\n",
      "debugpy==1.8.0\n",
      "decorator==5.1.1\n",
      "docstring_parser==0.16\n",
      "executing==2.0.1\n",
      "fastapi==0.116.1\n",
      "Flask==3.1.0\n",
      "frozenlist==1.4.0\n",
      "fsspec==2025.3.2\n",
      "gcsfs==2025.3.2\n",
      "gitdb==4.0.11\n",
      "GitPython==3.1.43\n",
      "google-adk==1.14.1\n",
      "google-api-core==2.25.1\n",
      "google-api-python-client==2.181.0\n",
      "google-auth==2.40.3\n",
      "google-auth-httplib2==0.2.0\n",
      "google-auth-oauthlib==1.2.2\n",
      "google-cloud-aiplatform==1.117.0\n",
      "google-cloud-appengine-logging==1.6.2\n",
      "google-cloud-audit-log==0.3.2\n",
      "google-cloud-bigquery==3.13.0\n",
      "google-cloud-bigtable==2.32.0\n",
      "google-cloud-core==2.3.3\n",
      "google-cloud-discoveryengine==0.13.12\n",
      "google-cloud-logging==3.12.1\n",
      "google-cloud-resource-manager==1.10.4\n",
      "google-cloud-secret-manager==2.24.0\n",
      "google-cloud-spanner==3.57.0\n",
      "google-cloud-speech==2.33.0\n",
      "google-cloud-storage==2.19.0\n",
      "google-cloud-trace==1.16.2\n",
      "google-cloud-vision==3.7.4\n",
      "google-crc32c==1.5.0\n",
      "google-genai==1.39.1\n",
      "google-resumable-media==2.7.2\n",
      "googleapis-common-protos==1.61.0\n",
      "graphviz==0.21\n",
      "greenlet==3.0.1\n",
      "grpc-google-iam-v1==0.14.2\n",
      "grpc-interceptor==0.15.4\n",
      "grpcio==1.59.3\n",
      "grpcio-status==1.59.3\n",
      "h11==0.14.0\n",
      "httpcore==1.0.7\n",
      "httplib2==0.31.0\n",
      "httpx==0.28.1\n",
      "httpx-sse==0.4.1\n",
      "idna==3.6\n",
      "importlib_metadata==8.7.0\n",
      "ipykernel==6.26.0\n",
      "ipython==8.18.0\n",
      "itsdangerous==2.2.0\n",
      "jedi==0.19.1\n",
      "Jinja2==3.1.3\n",
      "jsonpatch==1.33\n",
      "jsonpointer==2.4\n",
      "jsonschema==4.22.0\n",
      "jsonschema-specifications==2023.12.1\n",
      "jupyter_client==8.6.0\n",
      "jupyter_core==5.5.0\n",
      "langchain==0.0.340\n",
      "langsmith==0.0.66\n",
      "Mako==1.3.10\n",
      "markdown-it-py==3.0.0\n",
      "MarkupSafe==2.1.5\n",
      "marshmallow==3.20.1\n",
      "matplotlib-inline==0.1.6\n",
      "mcp==1.14.0\n",
      "mdurl==0.1.2\n",
      "multidict==6.0.4\n",
      "mypy-extensions==1.0.0\n",
      "nest-asyncio==1.5.8\n",
      "numpy==1.26.2\n",
      "oauthlib==3.2.2\n",
      "opentelemetry-api==1.37.0\n",
      "opentelemetry-exporter-gcp-trace==1.9.0\n",
      "opentelemetry-resourcedetector-gcp==1.9.0a0\n",
      "opentelemetry-sdk==1.37.0\n",
      "opentelemetry-semantic-conventions==0.58b0\n",
      "packaging==25.0\n",
      "pandas==2.1.3\n",
      "parso==0.8.3\n",
      "pexpect==4.9.0\n",
      "pillow==10.3.0\n",
      "platformdirs==4.0.0\n",
      "prompt-toolkit==3.0.41\n",
      "proto-plus==1.22.3\n",
      "protobuf==4.25.1\n",
      "psutil==5.9.6\n",
      "ptyprocess==0.7.0\n",
      "pure-eval==0.2.2\n",
      "pyarrow==16.0.0\n",
      "pyasn1==0.5.1\n",
      "pyasn1-modules==0.3.0\n",
      "pycparser==2.23\n",
      "pydantic==2.11.1\n",
      "pydantic-settings==2.10.1\n",
      "pydantic_core==2.33.0\n",
      "pydeck==0.9.0\n",
      "Pygments==2.17.2\n",
      "pyparsing==3.2.4\n",
      "python-dateutil==2.9.0.post0\n",
      "python-dotenv==1.1.1\n",
      "python-multipart==0.0.20\n",
      "pytz==2023.3.post1\n",
      "PyYAML==6.0.2\n",
      "pyzmq==25.1.1\n",
      "referencing==0.35.1\n",
      "requests==2.32.5\n",
      "requests-oauthlib==2.0.0\n",
      "rich==13.7.1\n",
      "rpds-py==0.18.0\n",
      "rsa==4.9\n",
      "setuptools==69.0.2\n",
      "shapely==2.0.2\n",
      "six==1.16.0\n",
      "smmap==5.0.1\n",
      "sniffio==1.3.0\n",
      "SQLAlchemy==2.0.23\n",
      "sqlalchemy-spanner==1.16.0\n",
      "sqlparse==0.5.3\n",
      "sse-starlette==3.0.2\n",
      "stack-data==0.6.3\n",
      "starlette==0.47.3\n",
      "streamlit==1.34.0\n",
      "streamlit-js-eval==0.1.7\n",
      "tenacity==8.2.3\n",
      "toml==0.10.2\n",
      "toolz==0.12.1\n",
      "tornado==6.3.3\n",
      "traitlets==5.13.0\n",
      "typing-inspect==0.9.0\n",
      "typing-inspection==0.4.0\n",
      "typing_extensions==4.13.0\n",
      "tzdata==2023.3\n",
      "tzlocal==5.3.1\n",
      "uritemplate==4.2.0\n",
      "urllib3==2.1.0\n",
      "uvicorn==0.35.0\n",
      "watchdog==6.0.0\n",
      "wcwidth==0.2.12\n",
      "websockets==15.0.1\n",
      "Werkzeug==3.1.3\n",
      "yarl==1.9.3\n",
      "zipp==3.23.0\n"
     ]
    }
   ],
   "source": [
    "!pip freeze"
   ]
  },
  {
   "cell_type": "code",
   "execution_count": null,
   "id": "92b33d9b",
   "metadata": {},
   "outputs": [],
   "source": []
  }
 ],
 "metadata": {
  "kernelspec": {
   "display_name": "Python 3",
   "language": "python",
   "name": "python3"
  },
  "language_info": {
   "codemirror_mode": {
    "name": "ipython",
    "version": 3
   },
   "file_extension": ".py",
   "mimetype": "text/x-python",
   "name": "python",
   "nbconvert_exporter": "python",
   "pygments_lexer": "ipython3",
   "version": "3.12.3"
  }
 },
 "nbformat": 4,
 "nbformat_minor": 5
}
