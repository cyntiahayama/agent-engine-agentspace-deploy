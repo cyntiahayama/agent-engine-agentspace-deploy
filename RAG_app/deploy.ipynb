{
 "cells": [
  {
   "cell_type": "code",
   "execution_count": 1,
   "id": "d030cd09",
   "metadata": {},
   "outputs": [],
   "source": [
    "import vertexai\n",
    "from vertexai import agent_engines\n",
    "import importlib\n",
    "import os\n",
    "\n",
    "from dotenv import load_dotenv, dotenv_values, set_key"
   ]
  },
  {
   "cell_type": "code",
   "execution_count": 2,
   "id": "f5ef57f7",
   "metadata": {},
   "outputs": [
    {
     "name": "stderr",
     "output_type": "stream",
     "text": [
      "2025-09-29 10:36:55,261 - agent - INFO - MODEL: `gemini-2.5-flash`\n",
      "2025-09-29 10:36:55,261 - agent - INFO - AGENT_APP_NAME: `natura6`\n",
      "2025-09-29 10:36:55,262 - agent - INFO - PROJECT_ID: `ml-demos-cyntia`\n",
      "2025-09-29 10:36:55,262 - agent - INFO - LOCATION: `global`\n",
      "2025-09-29 10:36:55,263 - agent - INFO - DATA_STORE_ID: `gdrive_1744808233110`\n",
      "2025-09-29 10:36:55,263 - agent - INFO - AUTH_NAME: `natura_app_auth6`\n",
      "2025-09-29 10:36:55,264 - agent - INFO - AGENTSPACE_APP_ID: `apagar_1751381593128`\n"
     ]
    }
   ],
   "source": [
    "load_dotenv()\n",
    "\n",
    "PROJECT_ID = os.environ[\"GOOGLE_CLOUD_PROJECT\"]\n",
    "LOCATION = os.environ[\"GOOGLE_CLOUD_LOCATION\"]\n",
    "STAGING_BUCKET = os.environ[\"STAGING_BUCKET\"]\n",
    "AGENT_DISPLAY_NAME = os.environ[\"AGENT_DISPLAY_NAME\"]\n",
    "AGENT_FOLDER = os.environ[\"AGENT_FOLDER\"]\n",
    "PROJECT_NUMBER = os.environ[\"GOOGLE_CLOUD_PROJECT_NUMBER\"]\n",
    "\n",
    "root_agent = importlib.import_module(f\"agent\")\n",
    "root_agent = root_agent.root_agent\n",
    "\n",
    "app = agent_engines.AdkApp(\n",
    "    agent=root_agent,\n",
    "    enable_tracing=True,\n",
    ")"
   ]
  },
  {
   "cell_type": "code",
   "execution_count": 3,
   "id": "5192317d",
   "metadata": {},
   "outputs": [
    {
     "name": "stdout",
     "output_type": "stream",
     "text": [
      "PROJECT_ID: ml-demos-cyntia\n",
      "LOCATION: us-central1\n",
      "STAGING_BUCKET: adk-demo-cyntia\n"
     ]
    }
   ],
   "source": [
    "print(f\"PROJECT_ID: {PROJECT_ID}\")\n",
    "print(f\"LOCATION: {LOCATION}\")\n",
    "print(f\"STAGING_BUCKET: {STAGING_BUCKET}\")"
   ]
  },
  {
   "cell_type": "code",
   "execution_count": 4,
   "id": "52275f7e",
   "metadata": {},
   "outputs": [],
   "source": [
    "vertexai.init(\n",
    "    project=PROJECT_ID,\n",
    "    location=LOCATION,\n",
    "    staging_bucket=\"gs://\"+STAGING_BUCKET,\n",
    ")"
   ]
  },
  {
   "cell_type": "markdown",
   "id": "022db3e8",
   "metadata": {},
   "source": [
    "## Roda local\n",
    "\n",
    "Vamos primeiro verificar se está funcionando e carregamos a versão correta"
   ]
  },
  {
   "cell_type": "code",
   "execution_count": 5,
   "id": "ab52ad61",
   "metadata": {},
   "outputs": [],
   "source": [
    "query = \"Qual a missao da TBG? Caso nao encontre, responda o motivo\"\n",
    "user_id=\"u_123\""
   ]
  },
  {
   "cell_type": "code",
   "execution_count": 6,
   "id": "d60a16f5",
   "metadata": {},
   "outputs": [
    {
     "name": "stderr",
     "output_type": "stream",
     "text": [
      "2025-09-29 10:36:59,311 - google_adk.google.adk.models.google_llm - INFO - Sending out request, model: gemini-2.5-flash, backend: GoogleLLMVariant.VERTEX_AI, stream: False\n",
      "2025-09-29 10:36:59,312 - google_genai.models - INFO - AFC is enabled with max remote calls: 10.\n",
      "2025-09-29 10:37:01,481 - google_adk.google.adk.models.google_llm - INFO - Response received from the model.\n",
      "2025-09-29 10:37:01,483 - google_genai.types - WARNING - Warning: there are non-text parts in the response: ['thought_signature', 'function_call'], returning concatenated text result from text parts. Check the full candidates.content.parts accessor to get the full model response.\n",
      "2025-09-29 10:37:11,552 - agent - INFO - \"Answer\":  A missão da TBG (Transportadora Brasileira Gasoduto Bolívia-Brasil S.A.) é \"Prover as melhores soluções logísticas conectando as ofertas de gás natural aos mercados, agregando valor em benefício do progresso sustentável da indústria , da geração termelétrica e do aquecimento dos lares.\", \"url\":https://global-discoveryengine.googleapis.com/v1alpha/projects/ml-demos-cyntia/locations/global/collections/default_collection/engines/apagar_1751381593128/assistants/default_assistant:streamAssist\n",
      "2025-09-29 10:37:11,685 - google_adk.google.adk.models.google_llm - INFO - Sending out request, model: gemini-2.5-flash, backend: GoogleLLMVariant.VERTEX_AI, stream: False\n",
      "2025-09-29 10:37:11,686 - google_genai.models - INFO - AFC is enabled with max remote calls: 10.\n",
      "2025-09-29 10:37:13,515 - google_adk.google.adk.models.google_llm - INFO - Response received from the model.\n"
     ]
    },
    {
     "name": "stdout",
     "output_type": "stream",
     "text": [
      "\n",
      "--- Final Response ---\n",
      "A missão da TBG (Transportadora Brasileira Gasoduto Bolívia-Brasil S.A.) é \"Prover as melhores soluções logísticas conectando as ofertas de gás natural aos mercados, agregando valor em benefício do progresso sustentável da indústria, da geração termelétrica e do aquecimento dos lares.\"\n"
     ]
    }
   ],
   "source": [
    "events = []\n",
    "async for event in app.async_stream_query(\n",
    "    user_id=user_id,\n",
    "    message=query,\n",
    "):\n",
    "    events.append(event)\n",
    "\n",
    "# The full event stream shows the agent's thought process\n",
    "#print(\"--- Full Event Stream ---\")\n",
    "#for event in events:\n",
    "#    print(event)\n",
    "\n",
    "# For quick tests, you can extract just the final text response\n",
    "final_text_responses = [\n",
    "    e for e in events\n",
    "    if e.get(\"content\", {}).get(\"parts\", [{}])[0].get(\"text\")\n",
    "    and not e.get(\"content\", {}).get(\"parts\", [{}])[0].get(\"function_call\")\n",
    "]\n",
    "if final_text_responses:\n",
    "    print(\"\\n--- Final Response ---\")\n",
    "    print(final_text_responses[0][\"content\"][\"parts\"][0][\"text\"])"
   ]
  },
  {
   "cell_type": "markdown",
   "id": "1ccf727d",
   "metadata": {},
   "source": [
    "## Deploy"
   ]
  },
  {
   "cell_type": "code",
   "execution_count": 14,
   "id": "eac9d4b2",
   "metadata": {},
   "outputs": [],
   "source": [
    "agent_env_vars = dict(dotenv_values(\".env\"))\n",
    "keys_to_copy = [\"MODEL\", \"AGENT_APP_NAME\", \"DATASTORE_LOCATION\", \"DATASTORE_ID\", \"AGENT_AUTH_OBJECT_ID\", \"AGENTSPACE_APP_ID_SEARCH\"]\n",
    "agent_env_vars = dict((k, agent_env_vars[k]) for k in keys_to_copy if k in agent_env_vars)"
   ]
  },
  {
   "cell_type": "code",
   "execution_count": 15,
   "id": "6672856e",
   "metadata": {},
   "outputs": [
    {
     "data": {
      "text/plain": [
       "'./RAG_app/requirements.txt'"
      ]
     },
     "execution_count": 15,
     "metadata": {},
     "output_type": "execute_result"
    }
   ],
   "source": [
    "os.path.join(\"./\", AGENT_FOLDER, 'requirements.txt')"
   ]
  },
  {
   "cell_type": "code",
   "execution_count": 16,
   "id": "15fc28c8",
   "metadata": {},
   "outputs": [
    {
     "data": {
      "text/plain": [
       "'natura6'"
      ]
     },
     "execution_count": 16,
     "metadata": {},
     "output_type": "execute_result"
    }
   ],
   "source": [
    "AGENT_DISPLAY_NAME"
   ]
  },
  {
   "cell_type": "code",
   "execution_count": 17,
   "id": "e8820eda",
   "metadata": {},
   "outputs": [
    {
     "data": {
      "text/plain": [
       "{'MODEL': 'gemini-2.5-flash'}"
      ]
     },
     "execution_count": 17,
     "metadata": {},
     "output_type": "execute_result"
    }
   ],
   "source": [
    "agent_env_vars"
   ]
  },
  {
   "cell_type": "code",
   "execution_count": null,
   "id": "4ff3e0e9",
   "metadata": {},
   "outputs": [],
   "source": [
    "remote_app = agent_engines.create(\n",
    "    app,\n",
    "    requirements=\"RAG_app/requirements.txt\",\n",
    "    extra_packages=[\"RAG_app/agent.py\"],\n",
    "    display_name=AGENT_DISPLAY_NAME,\n",
    "    env_vars=agent_env_vars\n",
    ")"
   ]
  },
  {
   "cell_type": "code",
   "execution_count": 18,
   "id": "c1138c12",
   "metadata": {},
   "outputs": [
    {
     "name": "stdout",
     "output_type": "stream",
     "text": [
      "Resource name: projects/860802528166/locations/us-central1/reasoningEngines/7597172349141516288\n"
     ]
    }
   ],
   "source": [
    "resource_name = remote_app.resource_name\n",
    "print(f\"Resource name: {resource_name}\")"
   ]
  },
  {
   "cell_type": "code",
   "execution_count": 19,
   "id": "556d83ed",
   "metadata": {},
   "outputs": [
    {
     "data": {
      "text/plain": [
       "(True, 'REASONING_ENGINE_ID', '7597172349141516288')"
      ]
     },
     "execution_count": 19,
     "metadata": {},
     "output_type": "execute_result"
    }
   ],
   "source": [
    "set_key(dotenv_path=\"../.env\", key_to_set=\"REASONING_ENGINE_ID\", value_to_set=resource_name.split('/')[-1])"
   ]
  },
  {
   "cell_type": "markdown",
   "id": "5c4d7218",
   "metadata": {},
   "source": [
    "## Teste Agent Engine\n",
    "\n",
    "Obs: Não vai encontrar o documento se precisar de Autenticação, como gDrive. Vamos apenas testar o endpoint"
   ]
  },
  {
   "cell_type": "code",
   "execution_count": 7,
   "id": "0ec669ce",
   "metadata": {},
   "outputs": [],
   "source": [
    "AGENT_DISPLAY_NAME = os.environ[\"GOOGLE_CLOUD_PROJECT_NUMBER\"]"
   ]
  },
  {
   "cell_type": "code",
   "execution_count": 8,
   "id": "e4374364",
   "metadata": {},
   "outputs": [
    {
     "name": "stdout",
     "output_type": "stream",
     "text": [
      "Resource name: projects/860802528166/locations/us-central1/reasoningEngines/8848891570573803520\n"
     ]
    }
   ],
   "source": [
    "if 'resource_name' not in locals():\n",
    "    REASONING_ENGINE_ID = os.environ[\"REASONING_ENGINE_ID\"]\n",
    "    PROJECT_NUMBER = os.environ[\"GOOGLE_CLOUD_PROJECT_NUMBER\"]\n",
    "    resource_name = f\"projects/{PROJECT_NUMBER}/locations/us-central1/reasoningEngines/{REASONING_ENGINE_ID}\"\n",
    "\n",
    "print(f\"Resource name: {resource_name}\")\n",
    "remote_agent = agent_engines.get(resource_name)"
   ]
  },
  {
   "cell_type": "code",
   "execution_count": 9,
   "id": "b73ad62a",
   "metadata": {},
   "outputs": [],
   "source": [
    "query = \"Qual a misao da TBG? Qual a URL retornada?\"\n",
    "user_id=\"u_123\""
   ]
  },
  {
   "cell_type": "code",
   "execution_count": 10,
   "id": "e57e41ee",
   "metadata": {},
   "outputs": [
    {
     "name": "stdout",
     "output_type": "stream",
     "text": [
      "\n",
      "--- Final Response ---\n",
      "Não foi possível encontrar a missão da TBG utilizando as ferramentas disponíveis. A URL retornada pela busca é: `https://global-discoveryengine.googleapis.com/v1alpha/projects/860802528166/locations/global/collections/default_collection/engines/apagar_1751381593128/assistants/default_assistant:streamAssist`. Parece ser um endpoint de API interno e não uma URL pública da TBG.\n"
     ]
    }
   ],
   "source": [
    "events = []\n",
    "async for event in remote_agent.async_stream_query(\n",
    "    user_id=user_id,\n",
    "    message=query,\n",
    "):\n",
    "    events.append(event)\n",
    "\n",
    "\n",
    "# For quick tests, you can extract just the final text response\n",
    "final_text_responses = [\n",
    "    e for e in events\n",
    "    if e.get(\"content\", {}).get(\"parts\", [{}])[0].get(\"text\")\n",
    "    and not e.get(\"content\", {}).get(\"parts\", [{}])[0].get(\"function_call\")\n",
    "]\n",
    "if final_text_responses:\n",
    "    print(\"\\n--- Final Response ---\")\n",
    "    print(final_text_responses[0][\"content\"][\"parts\"][0][\"text\"])"
   ]
  },
  {
   "cell_type": "code",
   "execution_count": 32,
   "id": "88489999",
   "metadata": {},
   "outputs": [
    {
     "data": {
      "text/plain": [
       "[]"
      ]
     },
     "execution_count": 32,
     "metadata": {},
     "output_type": "execute_result"
    }
   ],
   "source": [
    "events"
   ]
  },
  {
   "cell_type": "markdown",
   "id": "f99e62b6",
   "metadata": {},
   "source": [
    "## Update Agent"
   ]
  },
  {
   "cell_type": "code",
   "execution_count": 14,
   "id": "d038e62c",
   "metadata": {},
   "outputs": [],
   "source": [
    "agent_env_vars = dotenv_values(\"../.env\")\n",
    "del agent_env_vars[\"GOOGLE_CLOUD_LOCATION\"]\n",
    "del agent_env_vars[\"GOOGLE_CLOUD_PROJECT\"]"
   ]
  },
  {
   "cell_type": "code",
   "execution_count": 15,
   "id": "d2a73d25",
   "metadata": {},
   "outputs": [
    {
     "name": "stdout",
     "output_type": "stream",
     "text": [
      "Resource name: projects/860802528166/locations/us-central1/reasoningEngines/2336686509396066304\n"
     ]
    }
   ],
   "source": [
    "if 'resource_name' not in locals():\n",
    "    REASONING_ENGINE_ID = os.environ[\"REASONING_ENGINE_ID\"]\n",
    "    PROJECT_NUMBER = os.environ[\"GOOGLE_CLOUD_PROJECT_NUMBER\"]\n",
    "    resource_name = f\"projects/{PROJECT_NUMBER}/locations/us-central1/reasoningEngines/{REASONING_ENGINE_ID}\"\n",
    "\n",
    "print(f\"Resource name: {resource_name}\")\n",
    "remote_agent = agent_engines.get(resource_name)"
   ]
  },
  {
   "cell_type": "code",
   "execution_count": 9,
   "id": "850afae9",
   "metadata": {},
   "outputs": [
    {
     "name": "stdout",
     "output_type": "stream",
     "text": [
      "Reading requirements from requirements='requirements.txt'\n"
     ]
    },
    {
     "name": "stderr",
     "output_type": "stream",
     "text": [
      "2025-09-26 09:56:24,304 - vertexai.agent_engines - INFO - Reading requirements from requirements='requirements.txt'\n"
     ]
    },
    {
     "name": "stdout",
     "output_type": "stream",
     "text": [
      "Read the following lines: ['google-cloud-discoveryengine', 'google-cloud-storage ', 'requests', 'pydantic', 'pytest', 'PyYAML', 'python-dotenv', 'google-cloud-aiplatform[adk,agent_engines]', 'google-auth-oauthlib', 'google-genai', 'google-adk', 'cloudpickle']\n"
     ]
    },
    {
     "name": "stderr",
     "output_type": "stream",
     "text": [
      "2025-09-26 09:56:24,306 - vertexai.agent_engines - INFO - Read the following lines: ['google-cloud-discoveryengine', 'google-cloud-storage ', 'requests', 'pydantic', 'pytest', 'PyYAML', 'python-dotenv', 'google-cloud-aiplatform[adk,agent_engines]', 'google-auth-oauthlib', 'google-genai', 'google-adk', 'cloudpickle']\n"
     ]
    },
    {
     "name": "stdout",
     "output_type": "stream",
     "text": [
      "Identified the following requirements: {'cloudpickle': '3.1.1', 'pydantic': '2.11.1', 'google-cloud-aiplatform': '1.114.0'}\n"
     ]
    },
    {
     "name": "stderr",
     "output_type": "stream",
     "text": [
      "2025-09-26 09:56:24,313 - vertexai.agent_engines - INFO - Identified the following requirements: {'cloudpickle': '3.1.1', 'pydantic': '2.11.1', 'google-cloud-aiplatform': '1.114.0'}\n"
     ]
    },
    {
     "name": "stdout",
     "output_type": "stream",
     "text": [
      "The final list of requirements: ['google-cloud-discoveryengine', 'google-cloud-storage ', 'requests', 'pydantic', 'pytest', 'PyYAML', 'python-dotenv', 'google-cloud-aiplatform[adk,agent_engines]', 'google-auth-oauthlib', 'google-genai', 'google-adk', 'cloudpickle']\n"
     ]
    },
    {
     "name": "stderr",
     "output_type": "stream",
     "text": [
      "2025-09-26 09:56:24,333 - vertexai.agent_engines - INFO - The final list of requirements: ['google-cloud-discoveryengine', 'google-cloud-storage ', 'requests', 'pydantic', 'pytest', 'PyYAML', 'python-dotenv', 'google-cloud-aiplatform[adk,agent_engines]', 'google-auth-oauthlib', 'google-genai', 'google-adk', 'cloudpickle']\n"
     ]
    },
    {
     "name": "stdout",
     "output_type": "stream",
     "text": [
      "Using bucket adk-demo-cyntia\n"
     ]
    },
    {
     "name": "stderr",
     "output_type": "stream",
     "text": [
      "2025-09-26 09:56:26,218 - vertexai.agent_engines - INFO - Using bucket adk-demo-cyntia\n"
     ]
    },
    {
     "name": "stdout",
     "output_type": "stream",
     "text": [
      "Wrote to gs://adk-demo-cyntia/agent_engine/agent_engine.pkl\n"
     ]
    },
    {
     "name": "stderr",
     "output_type": "stream",
     "text": [
      "2025-09-26 09:56:27,441 - vertexai.agent_engines - INFO - Wrote to gs://adk-demo-cyntia/agent_engine/agent_engine.pkl\n"
     ]
    },
    {
     "name": "stdout",
     "output_type": "stream",
     "text": [
      "Writing to gs://adk-demo-cyntia/agent_engine/requirements.txt\n"
     ]
    },
    {
     "name": "stderr",
     "output_type": "stream",
     "text": [
      "2025-09-26 09:56:27,762 - vertexai.agent_engines - INFO - Writing to gs://adk-demo-cyntia/agent_engine/requirements.txt\n"
     ]
    },
    {
     "name": "stdout",
     "output_type": "stream",
     "text": [
      "Creating in-memory tarfile of extra_packages\n"
     ]
    },
    {
     "name": "stderr",
     "output_type": "stream",
     "text": [
      "2025-09-26 09:56:27,763 - vertexai.agent_engines - INFO - Creating in-memory tarfile of extra_packages\n"
     ]
    },
    {
     "name": "stdout",
     "output_type": "stream",
     "text": [
      "Writing to gs://adk-demo-cyntia/agent_engine/dependencies.tar.gz\n"
     ]
    },
    {
     "name": "stderr",
     "output_type": "stream",
     "text": [
      "2025-09-26 09:56:28,090 - vertexai.agent_engines - INFO - Writing to gs://adk-demo-cyntia/agent_engine/dependencies.tar.gz\n"
     ]
    },
    {
     "name": "stdout",
     "output_type": "stream",
     "text": [
      "failed to generate schema for async_add_session_to_memory: `async_add_session_to_memory` is not fully defined; you should define `Session`, then call `async_add_session_to_memory.model_rebuild()`.\n",
      "\n",
      "For further information visit https://errors.pydantic.dev/2.11/u/class-not-fully-defined\n"
     ]
    },
    {
     "name": "stderr",
     "output_type": "stream",
     "text": [
      "2025-09-26 09:56:28,098 - vertexai.agent_engines - WARNING - failed to generate schema for async_add_session_to_memory: `async_add_session_to_memory` is not fully defined; you should define `Session`, then call `async_add_session_to_memory.model_rebuild()`.\n",
      "\n",
      "For further information visit https://errors.pydantic.dev/2.11/u/class-not-fully-defined\n"
     ]
    },
    {
     "name": "stdout",
     "output_type": "stream",
     "text": [
      "Update Agent Engine backing LRO: projects/860802528166/locations/us-central1/reasoningEngines/7597172349141516288/operations/5850435486597775360\n"
     ]
    },
    {
     "name": "stderr",
     "output_type": "stream",
     "text": [
      "2025-09-26 09:56:29,163 - vertexai.agent_engines - INFO - Update Agent Engine backing LRO: projects/860802528166/locations/us-central1/reasoningEngines/7597172349141516288/operations/5850435486597775360\n"
     ]
    },
    {
     "name": "stdout",
     "output_type": "stream",
     "text": [
      "Agent Engine updated. Resource name: projects/860802528166/locations/us-central1/reasoningEngines/7597172349141516288\n"
     ]
    },
    {
     "name": "stderr",
     "output_type": "stream",
     "text": [
      "2025-09-26 09:59:40,762 - vertexai.agent_engines - INFO - Agent Engine updated. Resource name: projects/860802528166/locations/us-central1/reasoningEngines/7597172349141516288\n"
     ]
    },
    {
     "data": {
      "text/plain": [
       "<vertexai.agent_engines._agent_engines.AgentEngine object at 0x117ab3ce0> \n",
       "resource name: projects/860802528166/locations/us-central1/reasoningEngines/7597172349141516288"
      ]
     },
     "execution_count": 9,
     "metadata": {},
     "output_type": "execute_result"
    }
   ],
   "source": [
    "from vertexai import agent_engines\n",
    "\n",
    "agent_engines.update(\n",
    "    resource_name=resource_name,    # Required.\n",
    "    agent_engine=app,     # Optional.\n",
    "    requirements=\"requirements.txt\",      # Optional.\n",
    "    display_name=\"natura\",    # Optional.\n",
    "    extra_packages=[\"agent.py\"],  # Optional.\n",
    "    env_vars=agent_env_vars\n",
    ")"
   ]
  },
  {
   "cell_type": "markdown",
   "id": "28619159",
   "metadata": {},
   "source": [
    "## Rode os códigos abaixo"
   ]
  },
  {
   "cell_type": "markdown",
   "id": "bc6e74f7",
   "metadata": {},
   "source": [
    "python3 03_register_authorization_resource.py\n",
    "\n",
    "python3 04_register_agentoauth.py"
   ]
  },
  {
   "cell_type": "code",
   "execution_count": null,
   "id": "92b33d9b",
   "metadata": {},
   "outputs": [],
   "source": []
  }
 ],
 "metadata": {
  "kernelspec": {
   "display_name": "Python 3",
   "language": "python",
   "name": "python3"
  },
  "language_info": {
   "codemirror_mode": {
    "name": "ipython",
    "version": 3
   },
   "file_extension": ".py",
   "mimetype": "text/x-python",
   "name": "python",
   "nbconvert_exporter": "python",
   "pygments_lexer": "ipython3",
   "version": "3.12.3"
  }
 },
 "nbformat": 4,
 "nbformat_minor": 5
}
